{
  "nbformat": 4,
  "nbformat_minor": 0,
  "metadata": {
    "colab": {
      "provenance": [],
      "authorship_tag": "ABX9TyO6NN3eBnC0W89xaNpKfNO9",
      "include_colab_link": true
    },
    "kernelspec": {
      "name": "python3",
      "display_name": "Python 3"
    },
    "language_info": {
      "name": "python"
    }
  },
  "cells": [
    {
      "cell_type": "markdown",
      "metadata": {
        "id": "view-in-github",
        "colab_type": "text"
      },
      "source": [
        "<a href=\"https://colab.research.google.com/github/rat145/pw_assignments/blob/main/stats_advance3.ipynb\" target=\"_parent\"><img src=\"https://colab.research.google.com/assets/colab-badge.svg\" alt=\"Open In Colab\"/></a>"
      ]
    },
    {
      "cell_type": "markdown",
      "source": [
        "**Q1: What is Estimation Statistics? Explain point estimate and interval estimate.**\n",
        "\n",
        "Estimate: It is an observed numerical value used to estimate an unknown population parameter.\n",
        "\n",
        "1. Point estimate: Single numerical value used to estimate the unknown population parameter.\n",
        "Sample mean is a point estimate of a population mean.\n",
        "\n",
        "2. Interval estimate: Range of values used to estimate the unknown population parameters. Interval estimates of a population parameter are called confidence intervals."
      ],
      "metadata": {
        "id": "xGqO8PnkP66F"
      }
    },
    {
      "cell_type": "markdown",
      "source": [
        "**Q2. Write a Python function to estimate the population mean using a sample mean and standard deviation.**"
      ],
      "metadata": {
        "id": "3eSe9zvgRb7H"
      }
    },
    {
      "cell_type": "code",
      "source": [
        "def estimate_population_mean(sample_mean, sample_standard_deviation, sample_size):\n",
        "  \"\"\"\n",
        "  Estimate the population mean using a sample mean and standard deviation.\n",
        "\n",
        "  Args:\n",
        "    sample_mean: The sample mean.\n",
        "    sample_standard_deviation: The sample standard deviation.\n",
        "    sample_size: The sample size.\n",
        "\n",
        "  Returns:\n",
        "    The estimated population mean.\n",
        "  \"\"\"\n",
        "\n",
        "  estimated_population_mean = sample_mean + sample_standard_deviation * math.sqrt(1.0 / sample_size)\n",
        "\n",
        "  return estimated_population_mean"
      ],
      "metadata": {
        "id": "kLJkVQSuReTK"
      },
      "execution_count": null,
      "outputs": []
    },
    {
      "cell_type": "code",
      "source": [
        "import math\n",
        "\n",
        "sample_mean = 10\n",
        "sample_standard_deviation = 2\n",
        "sample_size = 100\n",
        "\n",
        "estimated_population_mean = estimate_population_mean(sample_mean, sample_standard_deviation, sample_size)\n",
        "\n",
        "print(estimated_population_mean)"
      ],
      "metadata": {
        "colab": {
          "base_uri": "https://localhost:8080/"
        },
        "id": "5zbz2yexBDlz",
        "outputId": "10d80658-d7b0-4c27-c470-03850cb40570"
      },
      "execution_count": null,
      "outputs": [
        {
          "output_type": "stream",
          "name": "stdout",
          "text": [
            "10.2\n"
          ]
        }
      ]
    },
    {
      "cell_type": "markdown",
      "source": [
        "**Q3: What is Hypothesis testing? Why is it used? State the importance of Hypothesis testing.**\n",
        "\n",
        "Hypothesis testing is a statistical method used to make inferences about a population based on a sample of data. It involves formulating two competing hypotheses: the null hypothesis (H0) and the alternative hypothesis (H1). The goal is to determine whether there is enough evidence in the sample data to reject the null hypothesis in favor of the alternative hypothesis.\n",
        "\n",
        "Importance of Hypothesis Testing:\n",
        "\n",
        "Informed Decision-Making: It helps make data-driven decisions by providing a systematic way to evaluate the validity of assumptions or claims about a population.\n",
        "\n",
        "Scientific Research: Essential in scientific research to test hypotheses and draw conclusions about the effects of variables or treatments.\n",
        "\n",
        "Quality Control: Used in quality control processes to ensure product or process improvements meet specified standards.\n",
        "\n",
        "Business Decision-Making: Aids businesses in making decisions about marketing strategies, product development, and more based on data analysis.\n",
        "\n",
        "Medical and Pharmaceutical Research: Crucial for evaluating the effectiveness of drugs, medical treatments, and medical hypotheses.\n",
        "\n",
        "Legal Context: Used in legal cases to assess evidence and determine guilt or innocence.\n",
        "\n",
        "Policy Evaluation: Helps policymakers assess the impact of policies and interventions."
      ],
      "metadata": {
        "id": "-39r2cjWBPDd"
      }
    },
    {
      "cell_type": "markdown",
      "source": [
        "**Q4. Create a hypothesis that states whether the average weight of male college students is greater than the average weight of female college students.**\n",
        "\n",
        "Null Hypothesis (H0): The average weight of male college students is equal to the average weight of female college students.\n",
        "\n",
        "Alternative Hypothesis (H1): The average weight of male college students is greater than the average weight of female college students."
      ],
      "metadata": {
        "id": "EA7Iy0u-Bs89"
      }
    },
    {
      "cell_type": "markdown",
      "source": [
        "**Q5. Write a Python script to conduct a hypothesis test on the difference between two population means, given a sample from each population.**"
      ],
      "metadata": {
        "id": "S9LNWid0B6SP"
      }
    },
    {
      "cell_type": "code",
      "source": [
        "import numpy as np\n",
        "from scipy import stats\n",
        "\n",
        "# Sample data for two populations\n",
        "sample1 = np.array([70, 72, 75, 73, 71])  # Sample from the first population\n",
        "sample2 = np.array([65, 68, 63, 67, 69])  # Sample from the second population\n",
        "\n",
        "# Define the significance level (alpha)\n",
        "alpha = 0.05\n",
        "\n",
        "# Perform a two-sample t-test\n",
        "t_statistic, p_value = stats.ttest_ind(sample1, sample2, equal_var=True)\n",
        "\n",
        "# Determine whether to reject the null hypothesis\n",
        "if p_value < alpha:\n",
        "    print(\"Reject the null hypothesis\")\n",
        "    print(\"There is enough evidence to suggest a significant difference between the population means.\")\n",
        "else:\n",
        "    print(\"Fail to reject the null hypothesis\")\n",
        "    print(\"There is not enough evidence to suggest a significant difference between the population means.\")\n",
        "\n",
        "# Print the t-statistic and p-value\n",
        "print(f\"t-statistic: {t_statistic}\")\n",
        "print(f\"P-value: {p_value}\")"
      ],
      "metadata": {
        "colab": {
          "base_uri": "https://localhost:8080/"
        },
        "id": "sZqw7k5wCILV",
        "outputId": "3f633660-abb2-4349-e927-9a5fe4dd6e13"
      },
      "execution_count": null,
      "outputs": [
        {
          "output_type": "stream",
          "name": "stdout",
          "text": [
            "Reject the null hypothesis\n",
            "There is enough evidence to suggest a significant difference between the population means.\n",
            "t-statistic: 4.207762250638065\n",
            "P-value: 0.0029649140285303126\n"
          ]
        }
      ]
    },
    {
      "cell_type": "markdown",
      "source": [
        "**Q6: What is a null and alternative hypothesis? Give some examples.**\n",
        "\n",
        "Null Hypothesis (H0):\n",
        "The null hypothesis is a statement that suggests there is no significant effect, relationship, or difference between variables or populations under study. It represents the default or baseline assumption that researchers aim to test. In hypothesis testing, you attempt to gather evidence to either reject or fail to reject the null hypothesis.\n",
        "\n",
        "Examples of null hypotheses:\n",
        "\n",
        "Drug Efficacy: H0: The new drug has no effect on patients' blood pressure.\n",
        "\n",
        "Gender Equality in Wages: H0: There is no gender-based wage gap in the company.\n",
        "\n",
        "Coin Toss: H0: The coin is fair and has an equal probability of landing heads or tails.\n",
        "\n",
        "Alternative Hypothesis (H1 or Ha):\n",
        "The alternative hypothesis is a statement that contradicts the null hypothesis. It suggests that there is a significant effect, relationship, or difference between variables or populations. Researchers seek evidence to support the alternative hypothesis, often indicating the effect they are interested in detecting.\n",
        "\n",
        "Examples of alternative hypotheses corresponding to the previous null hypotheses:\n",
        "\n",
        "Drug Efficacy: Ha: The new drug significantly reduces patients' blood pressure.\n",
        "\n",
        "Gender Equality in Wages: Ha: There is a gender-based wage gap in the company.\n",
        "\n",
        "Coin Toss: Ha: The coin is biased and does not have an equal probability of landing heads or tails.\n",
        "\n",
        "In hypothesis testing, the goal is to collect and analyze data to determine whether there is enough evidence to reject the null hypothesis in favor of the alternative hypothesis. The choice of null and alternative hypotheses depends on the research question and the effect or relationship you are investigating."
      ],
      "metadata": {
        "id": "BNRuevHTCN0O"
      }
    },
    {
      "cell_type": "markdown",
      "source": [
        "**Q7: Write down the steps involved in hypothesis testing.**\n",
        "\n",
        "Hypothesis testing is a structured process used to make inferences about populations based on sample data. Here are the general steps involved in hypothesis testing:\n",
        "\n",
        "Formulate Hypotheses:\n",
        "\n",
        "Null Hypothesis (H0): This represents the default or status quo assumption. It typically states that there is no significant effect, relationship, or difference.\n",
        "\n",
        "Alternative Hypothesis (H1 or Ha): This is the statement that contradicts the null hypothesis, suggesting a significant effect, relationship, or difference.\n",
        "\n",
        "Collect Data: Obtain a representative sample from the population of interest. The quality of the data and the sampling method are crucial for accurate hypothesis testing.\n",
        "\n",
        "Select Significance Level (Alpha):\n",
        "\n",
        "Choose a predetermined significance level (alpha) that represents the probability of making a Type I error (rejecting the null hypothesis when it's true). Common choices are 0.05 or 0.01.\n",
        "\n",
        "Choose a Test Statistic:\n",
        "\n",
        "Select an appropriate statistical test based on the type of data (e.g., t-test, chi-squared test, ANOVA, correlation, etc.) and the research question.\n",
        "\n",
        "Compute the Test Statistic:\n",
        "\n",
        "Calculate the test statistic using the sample data and the chosen statistical test. This statistic quantifies the difference or relationship between variables.\n",
        "\n",
        "Determine the Critical Region:\n",
        "\n",
        "Identify the critical values or critical region in the distribution of the test statistic based on the chosen significance level (alpha). This defines the threshold for rejecting the null hypothesis.\n",
        "\n",
        "Compare the Test Statistic to Critical Values:\n",
        "\n",
        "Compare the calculated test statistic to the critical values. If the test statistic falls within the critical region, you reject the null hypothesis. If it falls outside the critical region, you fail to reject the null hypothesis.\n",
        "\n",
        "Calculate the P-Value:\n",
        "\n",
        "Alternatively, you can calculate the p-value, which represents the probability of observing the test statistic (or a more extreme value) under the null hypothesis. If the p-value is less than or equal to alpha, you reject the null hypothesis.\n",
        "\n",
        "Make a Decision:\n",
        "\n",
        "Based on the comparison of the test statistic or p-value to the critical values or alpha, make a decision:\n",
        "If (p-value ≤ alpha) or (test statistic is in the critical region), reject the null hypothesis.\n",
        "If (p-value > alpha) or (test statistic is outside the critical region), fail to reject the null hypothesis.\n",
        "\n",
        "Draw a Conclusion:\n",
        "\n",
        "Interpret the results in the context of the research question. If you reject the null hypothesis, conclude that there is evidence to support the alternative hypothesis. If you fail to reject the null hypothesis, conclude that there is insufficient evidence to support the alternative hypothesis.\n",
        "\n",
        "Report Findings:\n",
        "\n",
        "Communicate the results of the hypothesis test, including the test statistic, p-value, and your conclusion, in a clear and concise manner.\n",
        "\n",
        "Consider Limitations:\n",
        "\n",
        "Acknowledge any limitations of the study or potential sources of bias that could have affected the results.\n",
        "These steps provide a systematic framework for conducting hypothesis tests and drawing valid conclusions about populations based on sample data."
      ],
      "metadata": {
        "id": "42o_2HE3CdJC"
      }
    },
    {
      "cell_type": "markdown",
      "source": [
        "**Q8. Define p-value and explain its significance in hypothesis testing.**\n",
        "\n",
        "Definition of P-Value:\n",
        "The p-value, short for \"probability value,\" is a statistical measure that quantifies the evidence against the null hypothesis (H0) in hypothesis testing. It represents the probability of observing a test statistic as extreme as, or more extreme than, the one computed from the sample data, assuming that the null hypothesis is true.\n",
        "\n",
        "Significance of P-Value in Hypothesis Testing:\n",
        "\n",
        "The p-value plays a critical role in hypothesis testing and helps researchers make informed decisions about whether to reject or fail to reject the null hypothesis. Here's how to interpret the p-value:\n",
        "\n",
        "Small P-Value (p ≤ alpha):\n",
        "\n",
        "If the calculated p-value is less than or equal to the chosen significance level (alpha), typically 0.05 or 0.01, it is considered statistically significant.\n",
        "This indicates that the observed sample data is unlikely to have occurred by random chance alone if the null hypothesis were true.\n",
        "Conclusively, researchers would reject the null hypothesis in favor of the alternative hypothesis (Ha).\n",
        "A small p-value suggests strong evidence against the null hypothesis.\n",
        "Large P-Value (p > alpha):\n",
        "\n",
        "If the calculated p-value is greater than the chosen alpha, it is considered not statistically significant.\n",
        "This suggests that the observed sample data could reasonably occur by random chance even if the null hypothesis were true.\n",
        "Researchers would fail to reject the null hypothesis.\n",
        "A large p-value indicates a lack of evidence against the null hypothesis.\n",
        "In summary, the p-value helps researchers assess the strength of the evidence against the null hypothesis. A smaller p-value indicates stronger evidence against the null hypothesis and suggests that the observed effect or relationship is likely not due to chance. On the other hand, a larger p-value implies that the observed data is consistent with the null hypothesis, and there is insufficient evidence to reject it.\n",
        "\n",
        "Researchers must choose a significance level (alpha) in advance to determine the threshold for considering p-values as significant or not. The commonly chosen significance levels are 0.05 (5%) or 0.01 (1%), but the specific alpha level depends on the research context and the desired balance between Type I and Type II errors."
      ],
      "metadata": {
        "id": "TFfT3MpWDJ0W"
      }
    },
    {
      "cell_type": "markdown",
      "source": [
        "**Q9. Generate a Student's t-distribution plot using Python's matplotlib library, with the degrees of freedom parameter set to 10.**"
      ],
      "metadata": {
        "id": "k9iClnamDjCU"
      }
    },
    {
      "cell_type": "code",
      "source": [
        "import numpy as np\n",
        "import matplotlib.pyplot as plt\n",
        "from scipy.stats import t\n",
        "\n",
        "# Define the degrees of freedom\n",
        "df = 10\n",
        "\n",
        "# Create a range of x-values\n",
        "x = np.linspace(-4, 4, 1000)  # Adjust the range as needed\n",
        "\n",
        "# Calculate the PDF (probability density function) for each x-value\n",
        "pdf = t.pdf(x, df)\n",
        "\n",
        "# Create the plot\n",
        "plt.figure(figsize=(8, 6))\n",
        "plt.plot(x, pdf, label=f\"t-Distribution (df={df})\", color='blue')\n",
        "plt.title(\"Student's t-Distribution\")\n",
        "plt.xlabel(\"x\")\n",
        "plt.ylabel(\"PDF\")\n",
        "plt.legend()\n",
        "plt.grid(True)\n",
        "plt.show()"
      ],
      "metadata": {
        "colab": {
          "base_uri": "https://localhost:8080/",
          "height": 564
        },
        "id": "parSwZwCDq4f",
        "outputId": "c65b3ff2-636b-4da5-fe91-017ca9253532"
      },
      "execution_count": null,
      "outputs": [
        {
          "output_type": "display_data",
          "data": {
            "text/plain": [
              "<Figure size 800x600 with 1 Axes>"
            ],
            "image/png": "[encoded data removed]"
          },
          "metadata": {}
        }
      ]
    },
    {
      "cell_type": "markdown",
      "source": [
        "**Q10. Write a Python program to calculate the two-sample t-test for independent samples, given two random samples of equal size and a null hypothesis that the population means are equal.**"
      ],
      "metadata": {
        "id": "9771q0HTEBcx"
      }
    },
    {
      "cell_type": "code",
      "source": [
        "import numpy as np\n",
        "from scipy import stats\n",
        "\n",
        "# Generate two random samples of equal size\n",
        "sample_size = 30  # You can change the sample size as needed\n",
        "np.random.seed(0)  # Setting a seed for reproducibility\n",
        "sample1 = np.random.normal(loc=100, scale=10, size=sample_size)  # Sample 1 with mean 100 and std. dev. 10\n",
        "sample2 = np.random.normal(loc=105, scale=10, size=sample_size)  # Sample 2 with mean 105 and std. dev. 10\n",
        "\n",
        "# Perform the two-sample t-test assuming equal variances (default)\n",
        "t_statistic, p_value = stats.ttest_ind(sample1, sample2)\n",
        "\n",
        "# Define the significance level (alpha)\n",
        "alpha = 0.05\n",
        "\n",
        "# Compare the p-value to alpha to make a decision\n",
        "if p_value < alpha:\n",
        "    print(\"Reject the null hypothesis\")\n",
        "    print(\"There is enough evidence to suggest a significant difference between population means.\")\n",
        "else:\n",
        "    print(\"Fail to reject the null hypothesis\")\n",
        "    print(\"There is not enough evidence to suggest a significant difference between population means.\")\n",
        "\n",
        "# Print the t-statistic and p-value\n",
        "print(f\"t-statistic: {t_statistic}\")\n",
        "print(f\"P-value: {p_value}\")"
      ],
      "metadata": {
        "colab": {
          "base_uri": "https://localhost:8080/"
        },
        "id": "zmo2CjmuEHYL",
        "outputId": "aaaff915-a199-4581-f153-c705602729cd"
      },
      "execution_count": null,
      "outputs": [
        {
          "output_type": "stream",
          "name": "stdout",
          "text": [
            "Fail to reject the null hypothesis\n",
            "There is not enough evidence to suggest a significant difference between population means.\n",
            "t-statistic: 0.889701920750515\n",
            "P-value: 0.37730145339434773\n"
          ]
        }
      ]
    },
    {
      "cell_type": "markdown",
      "source": [
        "**Q11: What is Student’s t distribution? When to use the t-Distribution.**\n",
        "\n",
        "Student's t-distribution is a continuous probability distribution that generalizes the standard normal distribution. It is symmetric around zero and bell-shaped, but has heavier tails than the normal distribution. The amount of probability mass in the tails is controlled by the degrees of freedom parameter.\n",
        "\n",
        "The t-distribution is used in situations where the sample size is small or when the population standard deviation is unknown. It arises when estimating the mean of a normally distributed population.\n",
        "\n",
        "The t-distribution plays a role in several widely used statistical analyses, including Student's t-test for assessing the statistical significance of the difference between two sample means, the construction of confidence intervals for the difference between two population means, and in linear regression analysis.\n",
        "\n",
        "In summary, use the t-distribution when you have a small sample size or when you don't know the population standard deviation and need to estimate it from your sample data."
      ],
      "metadata": {
        "id": "xAm2sgxcBlyk"
      }
    },
    {
      "cell_type": "markdown",
      "source": [
        "**Q12: What is t-statistic? State the formula for t-statistic.**\n",
        "\n",
        "t-statistic is a measure of the difference between the sample mean and the population mean, relative to the sample standard deviation. It is used in hypothesis testing via Student's t-test to determine whether to support or reject the null hypothesis. The formula for a t-statistic varies slightly depending on the type of t-test, such as one-sample, two-sample, or paired. The general formula for a t-statistic is:\n",
        "\n",
        "$$t = \\frac{\\bar{x} - \\mu}{s / \\sqrt{n}}$$\n",
        "\n",
        "where $\\bar{x}$ is the sample mean, $\\mu$ is the population mean, $s$ is the standard deviation of the sample, and $n$ is the sample size."
      ],
      "metadata": {
        "id": "hyVaXFNjCIfC"
      }
    },
    {
      "cell_type": "markdown",
      "source": [
        "**Q13. A coffee shop owner wants to estimate the average daily revenue for their shop. They take a random sample of 50 days and find the sample mean revenue to be dollar 500 with a standard deviation of dollar 50. Estimate the population mean revenue with a 95% confidence interval.**\n",
        "\n",
        "To estimate the population mean revenue with a 95% confidence interval, we can use the following formula:\n",
        "\n",
        "x̄ ± z(α/2) * (σ/√n)\n",
        "\n",
        "where x̄ is the sample mean revenue, z(α/2) is the z-score corresponding to the desired confidence level (95% in this case), σ is the population standard deviation, and n is the sample size.\n",
        "\n",
        "Since we don't know the population standard deviation, we can use the sample standard deviation as an estimate. Therefore, substituting the given values in the formula, we get:\n",
        "\n",
        "500 ± 1.96 * (50/√50)\n",
        "\n",
        "Simplifying this expression, we get:\n",
        "\n",
        "500 ± 13.98\n",
        "\n",
        "Thus, with 95% confidence, we can say that the population mean revenue lies between dollar 486.02 and dollar 513.98."
      ],
      "metadata": {
        "id": "BZXfX7-CCiXa"
      }
    },
    {
      "cell_type": "markdown",
      "source": [
        "**Q14. A researcher hypothesizes that a new drug will decrease blood pressure by 10 mmHg. They conduct a clinical trial with 100 patients and find that the sample mean decrease in blood pressure is 8 mmHg with a standard deviation of 3 mmHg. Test the hypothesis with a significance level of 0.05.**\n",
        "\n",
        "To test the hypothesis that the new drug will decrease blood pressure by 10 mmHg, we can use a one-sample t-test. The null hypothesis is that the population mean decrease in blood pressure is equal to 10 mmHg, and the alternative hypothesis is that it is less than 10 mmHg.\n",
        "\n",
        "The test statistic is calculated as:\n",
        "\n",
        "t = (x̄ - μ) / (s / √n)\n",
        "\n",
        "where x̄ is the sample mean decrease in blood pressure, μ is the hypothesized population mean decrease in blood pressure (10 mmHg), s is the sample standard deviation, and n is the sample size.\n",
        "\n",
        "Substituting the given values, we get:\n",
        "\n",
        "t = (8 - 10) / (3 / √100) = -6.67\n",
        "\n",
        "The degrees of freedom for this test are n - 1 = 99. Using a significance level of 0.05 and a one-tailed test, we find the critical value to be -1.66. Since our calculated t-value is less than the critical value, we reject the null hypothesis.\n",
        "\n",
        "Therefore, we can conclude that there is sufficient evidence to suggest that the new drug decreases blood pressure by more than 10 mmHg."
      ],
      "metadata": {
        "id": "yT_DGaRsLhjv"
      }
    },
    {
      "cell_type": "markdown",
      "source": [
        "**Q15. An electronics company produces a certain type of product with a mean weight of 5 pounds and a standard deviation of 0.5 pounds. A random sample of 25 products is taken, and the sample mean weight is found to be 4.8 pounds. Test the hypothesis that the true mean weight of the products is less than 5 pounds with a significance level of 0.01.**\n",
        "\n",
        "To test the hypothesis that the true mean weight of the products is less than 5 pounds, we can use a one-sample t-test. The null hypothesis is that the population mean weight is equal to 5 pounds, and the alternative hypothesis is that it is less than 5 pounds.\n",
        "\n",
        "The test statistic is calculated as:\n",
        "\n",
        "t = (x̄ - μ) / (s / √n)\n",
        "\n",
        "where x̄ is the sample mean weight, μ is the hypothesized population mean weight (5 pounds), s is the sample standard deviation, and n is the sample size.\n",
        "\n",
        "Substituting the given values, we get:\n",
        "\n",
        "t = (4.8 - 5) / (0.5 / √25) = -2\n",
        "\n",
        "The degrees of freedom for this test are n - 1 = 24. Using a significance level of 0.01 and a one-tailed test, we find the critical value to be -2.492. Since our calculated t-value is less than the critical value, we reject the null hypothesis.\n",
        "\n",
        "Therefore, we can conclude that there is sufficient evidence to suggest that the true mean weight of the products is less than 5 pounds."
      ],
      "metadata": {
        "id": "OuW_pdZ4MPte"
      }
    },
    {
      "cell_type": "markdown",
      "source": [
        "**Q16. Two groups of students are given different study materials to prepare for a test. The first group (n1 = 30) has a mean score of 80 with a standard deviation of 10, and the second group (n2 = 40) has a mean score of 75 with a standard deviation of 8. Test the hypothesis that the population means for the two groups are equal with a significance level of 0.01.**\n",
        "\n",
        "To test the hypothesis that the population means for the two groups are equal, we can use a two-sample t-test. The null hypothesis is that the population means are equal, and the alternative hypothesis is that they are not equal.\n",
        "\n",
        "The test statistic is calculated as:\n",
        "\n",
        "t = (x̄1 - x̄2) / √(s1^2/n1 + s2^2/n2)\n",
        "\n",
        "where x̄1 and x̄2 are the sample means, s1 and s2 are the sample standard deviations, and n1 and n2 are the sample sizes.\n",
        "\n",
        "Substituting the given values, we get:\n",
        "\n",
        "t = (80 - 75) / √(10^2/30 + 8^2/40) = 3.03\n",
        "\n",
        "The degrees of freedom for this test are calculated as:\n",
        "\n",
        "df = (s1^2/n1 + s2^2/n2)^2 / [((s1^2/n1)^2 / (n1 - 1)) + ((s2^2/n2)^2 / (n2 - 1))] = 57.8\n",
        "\n",
        "Using a significance level of 0.01 and a two-tailed test, we find the critical value to be ±2.66. Since our calculated t-value is greater than the critical value, we reject the null hypothesis.\n",
        "\n",
        "Therefore, we can conclude that there is sufficient evidence to suggest that the population means for the two groups are not equal."
      ],
      "metadata": {
        "id": "Ijy42MrQM0Ro"
      }
    },
    {
      "cell_type": "markdown",
      "source": [
        "**Q17. A marketing company wants to estimate the average number of ads watched by viewers during a TV program. They take a random sample of 50 viewers and find that the sample mean is 4 with a standard deviation of 1.5. Estimate the population mean with a 99% confidence interval.**\n",
        "\n",
        "To estimate the population mean with a 99% confidence interval, we can use the following formula:\n",
        "\n",
        "x̄ ± z(α/2) * (σ/√n)\n",
        "\n",
        "where x̄ is the sample mean, z(α/2) is the z-score corresponding to the desired confidence level (99% in this case), σ is the population standard deviation, and n is the sample size.\n",
        "\n",
        "Since we don't know the population standard deviation, we can use the sample standard deviation as an estimate. Therefore, substituting the given values in the formula, we get:\n",
        "\n",
        "4 ± 2.58 * (1.5/√50)\n",
        "\n",
        "Simplifying this expression, we get:\n",
        "\n",
        "4 ± 0.54\n",
        "\n",
        "Thus, with 99% confidence, we can say that the population mean lies between 3.46 and 4.54."
      ],
      "metadata": {
        "id": "Ojn_yEStNyr6"
      }
    }
  ]
}