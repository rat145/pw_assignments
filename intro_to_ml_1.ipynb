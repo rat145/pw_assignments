{
  "nbformat": 4,
  "nbformat_minor": 0,
  "metadata": {
    "colab": {
      "provenance": [],
      "authorship_tag": "ABX9TyOTUyP2gXQuwdCLWV7WNGha",
      "include_colab_link": true
    },
    "kernelspec": {
      "name": "python3",
      "display_name": "Python 3"
    },
    "language_info": {
      "name": "python"
    }
  },
  "cells": [
    {
      "cell_type": "markdown",
      "metadata": {
        "id": "view-in-github",
        "colab_type": "text"
      },
      "source": [
        "<a href=\"https://colab.research.google.com/github/rat145/pw_assignments/blob/main/intro_to_ml_1.ipynb\" target=\"_parent\"><img src=\"https://colab.research.google.com/assets/colab-badge.svg\" alt=\"Open In Colab\"/></a>"
      ]
    },
    {
      "cell_type": "markdown",
      "source": [
        "### Q1: Explain the following with an example:\n",
        "\n",
        "### 1. Artificial Intelligence:\n",
        "- AI (Aritifical Intelligence) is a smart application that can perform its own task without any human intervention.\n",
        "- For example - Self-driving cars, robotics, alexa, etc.\n",
        "- It is like the superset of Machine learning and deep learning.\n",
        "\n",
        "### 2. Machine Learning\n",
        "- ML (Machine Learning) provides stats tools to analyze, visualize, predictive models and forecasting.\n",
        "- For example - Amazon (product recommendations), Netflix (movie recommendations)\n",
        "- It is subset of AI.\n",
        "\n",
        "### 3. Deep Learning\n",
        "- DL (Deep Learning) mimics human brain.\n",
        "- It is a multi-layered neural network.\n",
        "- For example - Object detection, image recognition, etc.\n",
        "- It is subset of ML."
      ],
      "metadata": {
        "id": "1VAZnWek4Q-e"
      }
    },
    {
      "cell_type": "markdown",
      "source": [
        "### Q2: What is supervised learning? List some examples of supervised learning.\n",
        "\n",
        "- Supervised learning is one of the four types of machine learning.\n",
        "- In this type of ML we know the input and output.\n",
        "- There are further two types in supervised learning - Classification and Regression.\n",
        "- Classification: The output feature (dependent feature) is categorical like yes/no, pass/fail, etc.\n",
        "- Regression: The output feature is a continuous value like price of house, etc.\n",
        "- Examples of supervised learning:\n",
        "  - Email spam filters\n",
        "  - Fraud detection systems\n",
        "  - Recommendation engines\n",
        "  - Image recognition systems"
      ],
      "metadata": {
        "id": "7ft4ebKL6gAg"
      }
    },
    {
      "cell_type": "markdown",
      "source": [
        "### Q3: What is unsupervised learning? List some examples of unsupervised learning.\n",
        "\n",
        "- Unsupervised learning is one of the four types of machine learning.\n",
        "- In this type of ML there is no output feature.\n",
        "- We try to find and form clusters which is nothing but group of similar data.\n",
        "- For example - customer segmentation"
      ],
      "metadata": {
        "id": "YwKBtKdk8usS"
      }
    },
    {
      "cell_type": "markdown",
      "source": [
        "### Q4: What is the difference between AI, ML, DL and DS?\n",
        "\n",
        "1. Artificial Intelligence:\n",
        "- AI (Aritifical Intelligence) is a smart application that can perform its own task without any human intervention.\n",
        "- For example - Self-driving cars, robotics, alexa, etc.\n",
        "- It is like the superset of Machine learning and deep learning.\n",
        "\n",
        "2. Machine Learning\n",
        "- ML (Machine Learning) provides stats tools to analyze, visualize, predictive models and forecasting.\n",
        "- For example - Amazon (product recommendations), Netflix (movie recommendations)\n",
        "- It is subset of AI.\n",
        "\n",
        "3. Deep Learning\n",
        "- DL (Deep Learning) mimics human brain.\n",
        "- It is a multi-layered neural network.\n",
        "- For example - Object detection, image recognition, etc.\n",
        "- It is subset of ML.\n",
        "\n",
        "4. Data Science\n",
        "- DS (Data Science) is everything from AI to ML and DL.\n",
        "- A data scientist is expected to know everything in AI, ML and DL.\n",
        "- Data scientist is the highest paid job role.\n",
        "- A data scientist takes part in everything from AI, ML and DL."
      ],
      "metadata": {
        "id": "LbZEAKh_9ms7"
      }
    },
    {
      "cell_type": "markdown",
      "source": [
        "### Q5: What are the main differences between supervised, unsupervised, and semi-supervised learning?\n",
        "\n",
        "Supervised, unsupervised, and semi-supervised learning are three types of machine learning techniques. Supervised learning is a type of machine learning where the algorithm learns from labeled data. In contrast, unsupervised learning is a type of machine learning where the algorithm learns from unlabeled data. Semi-supervised learning is a combination of both supervised and unsupervised learning, where the algorithm learns from a small amount of labeled data and a large amount of unlabeled data.\n",
        "\n",
        "The main differences between these three types of machine learning techniques are:\n",
        "\n",
        "1. **Labeled vs. Unlabeled Data**: Supervised learning uses labeled data, while unsupervised learning uses unlabeled data. Semi-supervised learning uses both labeled and unlabeled data.\n",
        "2. **Training Process**: In supervised learning, the algorithm is trained on labeled data to predict the output variable. In unsupervised learning, the algorithm tries to find patterns in the data without any prior knowledge of the output variable. In semi-supervised learning, the algorithm is trained on both labeled and unlabeled data.\n",
        "3. **Output**: In supervised learning, the output variable is known beforehand and the algorithm tries to predict it based on the input variables. In unsupervised learning, there is no output variable and the algorithm tries to find patterns in the input variables. In semi-supervised learning, the output variable is known for some of the input variables and unknown for others."
      ],
      "metadata": {
        "id": "bM4t9fqw-qh0"
      }
    },
    {
      "cell_type": "markdown",
      "source": [
        "### Q6: What is train, test and validation split? Explain the importance of Each term.\n",
        "\n",
        "- There are three types of datasets in Machine Learning - Training dataset, Validation dataset, and Test dataset.\n",
        "- **Training dataset**: We train our models with this dataset.\n",
        "- **Validation dataset**: It is used for hyper tuning of the model or increasing accuracy.\n",
        "- **Test dataset**: Our model is tested with the test dataset."
      ],
      "metadata": {
        "id": "VA18tccF_dO6"
      }
    },
    {
      "cell_type": "markdown",
      "source": [
        "### Q7: How can unsupervised learning be used in anomaly detection?\n",
        "\n",
        "Unsupervised learning can be used in anomaly detection to identify unexpected items or events in unlabeled datasets, which differ from the norm. It does not require any prior knowledge about the anomalies, but assumes that they are rare and make up a small percentage of the data.\n",
        "\n",
        "The process of unsupervised anomaly detection involves modeling the normal data distribution and defining a measurement to classify samples as anomalous or normal. There are different functions and methods for unsupervised anomaly detection for univariate and multivariate data.\n",
        "\n",
        "Unsupervised anomaly detection is often applied in practical applications such as network intrusion detection, fraud detection, and life science and medical domain.\n",
        "\n",
        "For instance, unsupervised anomaly detection can be used to detect credit card fraud by identifying transactions that deviate from the normal pattern of transactions."
      ],
      "metadata": {
        "id": "psdQJ8NcAU5M"
      }
    },
    {
      "cell_type": "markdown",
      "source": [
        "### Q8: List down some commonly used supervised learning algorithms and unsupervised learning algorithms.\n",
        "\n",
        "Here are some commonly used supervised learning algorithms:\n",
        "\n",
        "1. **Linear regression**: A regression algorithm that models the relationship between a dependent variable and one or more independent variables.\n",
        "2. **Random forest**: A classification and regression algorithm that creates multiple decision trees and combines their outputs to make a final prediction.\n",
        "3. **Support vector machines (SVM)**: A classification algorithm that finds the best hyperplane to separate data into different classes.\n",
        "4. **Logistic regression**: A classification algorithm that models the probability of an event occurring.\n",
        "\n",
        "Here are some commonly used unsupervised learning algorithms:\n",
        "\n",
        "1. **Clustering**: A technique used to group similar data points together based on their characteristics. It is used in various applications such as customer segmentation, image segmentation, and anomaly detection.\n",
        "2. **Dimensionality reduction**: This technique is used to reduce the number of features in a dataset while retaining the most important information. It is used in various applications such as image compression, text analysis, and data visualization.\n",
        "3. **Association rule mining**: This technique is used to find patterns in data by identifying relationships between variables. It is used in various applications such as market basket analysis, recommendation systems, and fraud detection."
      ],
      "metadata": {
        "id": "4UNEG9QKAtC7"
      }
    }
  ]
}