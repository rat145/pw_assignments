{
 "cells": [
  {
   "cell_type": "markdown",
   "id": "51ff56a1",
   "metadata": {},
   "source": [
    "### Q1. What is an API? Give an example, where an API is used in real life."
   ]
  },
  {
   "cell_type": "markdown",
   "id": "8275c711",
   "metadata": {},
   "source": [
    "- API stands for Application Programming Interface.\n",
    "- An API is nothing but the bridge between the server side and the client side.\n",
    "- It is a standardized way to interact, exchange information and perform actions between different softwares.\n",
    "- A real life example of API would be weather forecasting.\n",
    "- The weather service exposes an API with endpoints which can be used to retrieve data."
   ]
  },
  {
   "cell_type": "markdown",
   "id": "10e2e8aa",
   "metadata": {},
   "source": [
    "### Q2. Give advantages and disadvantages of using API."
   ]
  },
  {
   "cell_type": "markdown",
   "id": "db23c16b",
   "metadata": {},
   "source": [
    "- Advantages:\n",
    "    - Efficiency\n",
    "    - Modularity & reusability\n",
    "    - Interoperability\n",
    "    - Scalability\n",
    "    - Innovation\n",
    "    - Third-party integration\n",
    "    - Security\n",
    "    - Cost-efficiency\n",
    "- Disadvantages:\n",
    "    - Dependency on third-parties\n",
    "    - Limited control\n",
    "    - Version compatibility\n",
    "    - Data privacy and security\n",
    "    - Performance\n",
    "    - Vendor lock-in\n",
    "    - Learning curve\n",
    "    - Rate limits and costs"
   ]
  },
  {
   "cell_type": "markdown",
   "id": "9046d45a",
   "metadata": {},
   "source": [
    "### Q3. What is a Web API? Differentiate between API and Web API."
   ]
  },
  {
   "cell_type": "markdown",
   "id": "0d6293a8",
   "metadata": {},
   "source": [
    "Web API:\n",
    "- Web API is an API that facilitates communication and interaction between different software applications over the internet using principles of World Wide Web.\n",
    "- It can send HTTP requests and receive HTTP responses.\n",
    "- It can also exchange data.\n",
    "\n",
    "Differences between API and Web API:\n",
    "- An API encompasses any set of rules, protocols, or tools that allow different software components or applications to interact with each other. This interaction can occur within a single system or across different systems. While a Web API specifically refers to an API that is designed to be accessed over the internet using HTTP protocols. It enables remote communication between applications and is well-suited for distributed systems.\n",
    "- APIs can facilitate communication between various software components within the same application or system, often involving function calls or method invocations. While Web APIs use the HTTP protocol to communicate data and actions over the internet. They rely on endpoints, HTTP methods (such as GET, POST, PUT, DELETE), and request/response structures to exchange information.\n"
   ]
  },
  {
   "cell_type": "markdown",
   "id": "095275fb",
   "metadata": {},
   "source": [
    "### Q4. Explain REST and SOAP Architecture. Mention shortcomings of SOAP."
   ]
  },
  {
   "cell_type": "markdown",
   "id": "1cdeb00e",
   "metadata": {},
   "source": [
    "REST Architecture:\n",
    "- REST stands for Representational State Transfer.\n",
    "- It is commonly used for building web services that can be accessed over the internet. They interact over HTTP.\n",
    "- It is based on stateless client-server model.\n",
    "- Each request from client to the server must contain all the necessary information.\n",
    "- The server doesn't store any client context between requests.\n",
    "\n",
    "SOAP Architecture:\n",
    "- SOAP stands for Simple Object Access Protocol\n",
    "- It is a protocol for exchanging structured information in the implementation of web services.\n",
    "- It relies on XML for message format and can work over various underlying protocols like HTTP, SMTP and more.\n",
    "\n",
    "Shortcomings of SOAP:\n",
    "- SOAP messages are often more complex due to XML based format.\n",
    "- The XML format used in SOAP messages can lead to higher overhead compared to more compact formats like JSON used in REST.\n",
    "- Parsing XML and the larger message sizes can impact the performance of SOAP services, especially in resource-constrained environments.\n",
    "- SOAP is less suitable for browser-based applications due to its heavier message format and the need for additional libraries."
   ]
  },
  {
   "cell_type": "markdown",
   "id": "4ee406f4",
   "metadata": {},
   "source": [
    "### Q5. Differentiate between REST and SOAP."
   ]
  },
  {
   "cell_type": "markdown",
   "id": "9f7d4ba2",
   "metadata": {},
   "source": [
    "1. REST focuses on resources and their representations. It is based on stateless client-server model. uses standard HTTP methods (GET, POST, PUT, DELETE) for communication. SOAP is a protocol for exchanging structured information in implementation of web services. It defines a set of rules for structuring messages and can work over various protocols, not just HTTP.\n",
    "2. REST uses lightweight format like JSON for message payloads. SOAP uses XML for message format, which makes messsages more complex.\n",
    "3. REST emphasizes statelessness, where each request from the client must contain all the necessary information. SOAP doesn't inherently enforce statelessness, but can be designed to be stateless.\n",
    "4. REST primarily uses the HTTP protocol, but can work over other protocols as well. SOAP can work over multiple protocols, including HTTP, SMTP, and more."
   ]
  }
 ],
 "metadata": {
  "kernelspec": {
   "display_name": "Python 3 (ipykernel)",
   "language": "python",
   "name": "python3"
  },
  "language_info": {
   "codemirror_mode": {
    "name": "ipython",
    "version": 3
   },
   "file_extension": ".py",
   "mimetype": "text/x-python",
   "name": "python",
   "nbconvert_exporter": "python",
   "pygments_lexer": "ipython3",
   "version": "3.11.3"
  }
 },
 "nbformat": 4,
 "nbformat_minor": 5
}
