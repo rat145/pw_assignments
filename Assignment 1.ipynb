{
 "cells": [
  {
   "cell_type": "markdown",
   "id": "615b028c",
   "metadata": {},
   "source": [
    "Q1. Create one variable containing following type of data:\n",
    "\n",
    "(i)\tstring\n",
    "\n",
    "(ii) list\n",
    "\n",
    "(iii) float\n",
    "\n",
    "(iv) tuple  "
   ]
  },
  {
   "cell_type": "code",
   "execution_count": 2,
   "id": "4a918072",
   "metadata": {},
   "outputs": [],
   "source": [
    "a = 'hello'\n",
    "a = [1,2,False,12.34,\"box\"]\n",
    "a = 12.3\n",
    "a = (-1,34,1)"
   ]
  },
  {
   "cell_type": "code",
   "execution_count": 1,
   "id": "0b5af508",
   "metadata": {},
   "outputs": [],
   "source": [
    "# one variable of list dtype containing above mentioned types of data\n",
    "a = [\"rat\",[1,2,3,\"hi\"],95.1,(1,2,\"PW\")]"
   ]
  },
  {
   "cell_type": "markdown",
   "id": "847be78c",
   "metadata": {},
   "source": [
    "Q2. Given are some following variables containing data:\n",
    "\n",
    "(i)\tvar1 = ‘ ‘\n",
    "\n",
    "(ii) var2 = ‘[ DS , ML , Python]’\n",
    "\n",
    "(iii) var3 = [ ‘DS’ , ’ML’ , ‘Python’ ]\n",
    "\n",
    "(iv) var4 = 1.\n",
    "\n",
    "What will be the data type of the above given variable."
   ]
  },
  {
   "cell_type": "code",
   "execution_count": 3,
   "id": "e11f59ac",
   "metadata": {},
   "outputs": [
    {
     "data": {
      "text/plain": [
       "str"
      ]
     },
     "execution_count": 3,
     "metadata": {},
     "output_type": "execute_result"
    }
   ],
   "source": [
    "var1 = ''\n",
    "type(var1)"
   ]
  },
  {
   "cell_type": "code",
   "execution_count": 4,
   "id": "9c55a8c3",
   "metadata": {},
   "outputs": [
    {
     "data": {
      "text/plain": [
       "str"
      ]
     },
     "execution_count": 4,
     "metadata": {},
     "output_type": "execute_result"
    }
   ],
   "source": [
    "var2 = '[DS,ML,Python]'\n",
    "type(var2)"
   ]
  },
  {
   "cell_type": "code",
   "execution_count": 5,
   "id": "583721fd",
   "metadata": {},
   "outputs": [
    {
     "data": {
      "text/plain": [
       "list"
      ]
     },
     "execution_count": 5,
     "metadata": {},
     "output_type": "execute_result"
    }
   ],
   "source": [
    "var3 = ['DS','ML','Python']\n",
    "type(var3)"
   ]
  },
  {
   "cell_type": "code",
   "execution_count": 6,
   "id": "db3fe1de",
   "metadata": {},
   "outputs": [
    {
     "data": {
      "text/plain": [
       "float"
      ]
     },
     "execution_count": 6,
     "metadata": {},
     "output_type": "execute_result"
    }
   ],
   "source": [
    "var4 = 1.\n",
    "type(var4)"
   ]
  },
  {
   "cell_type": "markdown",
   "id": "02277437",
   "metadata": {},
   "source": [
    "Q3. Explain the use of the following operators using an example:\n",
    "\n",
    "(i)\t    /\n",
    "\n",
    "(ii)\t% \n",
    "\n",
    "(iii)\t//\n",
    "\n",
    "(iv)\t**"
   ]
  },
  {
   "cell_type": "code",
   "execution_count": 8,
   "id": "5ba4a84d",
   "metadata": {},
   "outputs": [
    {
     "name": "stdout",
     "output_type": "stream",
     "text": [
      "5.0\n",
      "0.5\n"
     ]
    }
   ],
   "source": [
    "# 1. The division operator ('/') is used divide two numbers. It returns the quotient in float datatype.\n",
    "\n",
    "print(10/2)\n",
    "print(1/2)"
   ]
  },
  {
   "cell_type": "code",
   "execution_count": 10,
   "id": "054501a6",
   "metadata": {},
   "outputs": [
    {
     "name": "stdout",
     "output_type": "stream",
     "text": [
      "0\n",
      "2\n"
     ]
    }
   ],
   "source": [
    "# 2. The modulus operator ('%') is used to divide two numbers and get their remainder.\n",
    "\n",
    "print(10%2) # remainder is 0\n",
    "print(10%4) # remainder will be 2"
   ]
  },
  {
   "cell_type": "code",
   "execution_count": 13,
   "id": "9cbd02e9",
   "metadata": {},
   "outputs": [
    {
     "name": "stdout",
     "output_type": "stream",
     "text": [
      "0\n",
      "2\n"
     ]
    }
   ],
   "source": [
    "# 3. The floor division operator ('//') double slash is used to divide two numbers and the result is only the floor value of the\n",
    "#    the quotient. For e.g if quotient is 2.5, the result will take only 2 and return it as an integer.\n",
    "\n",
    "print(1//2)\n",
    "print(10//4)"
   ]
  },
  {
   "cell_type": "code",
   "execution_count": 14,
   "id": "f67271ee",
   "metadata": {},
   "outputs": [
    {
     "name": "stdout",
     "output_type": "stream",
     "text": [
      "8\n"
     ]
    }
   ],
   "source": [
    "# 4. The exponential operator ('**') raised to is used to evaluate x raised to the power of y.\n",
    "\n",
    "print(2**3)   # 2*2*2"
   ]
  },
  {
   "cell_type": "markdown",
   "id": "6e005b61",
   "metadata": {},
   "source": [
    "Q4. Create a list of length 10 of your choice containing multiple types of data. Using for loop print the \n",
    "element and its data type."
   ]
  },
  {
   "cell_type": "code",
   "execution_count": 16,
   "id": "effe2787",
   "metadata": {},
   "outputs": [
    {
     "name": "stdout",
     "output_type": "stream",
     "text": [
      "Data: 1 \n",
      "Datatype:  <class 'int'> \n",
      "\n",
      "\n",
      "Data: 2 \n",
      "Datatype:  <class 'int'> \n",
      "\n",
      "\n",
      "Data: 3 \n",
      "Datatype:  <class 'int'> \n",
      "\n",
      "\n",
      "Data: 4 \n",
      "Datatype:  <class 'int'> \n",
      "\n",
      "\n",
      "Data: PW Skills \n",
      "Datatype:  <class 'str'> \n",
      "\n",
      "\n",
      "Data: 98.2 \n",
      "Datatype:  <class 'float'> \n",
      "\n",
      "\n",
      "Data: True \n",
      "Datatype:  <class 'bool'> \n",
      "\n",
      "\n",
      "Data: (4+5j) \n",
      "Datatype:  <class 'complex'> \n",
      "\n",
      "\n"
     ]
    }
   ],
   "source": [
    "mylist = [1,2,3,4,\"PW Skills\",98.2,True,4+5j]\n",
    "for i in mylist:\n",
    "    print(\"Data:\",i,\"\\nDatatype: \",type(i),\"\\n\\n\")"
   ]
  },
  {
   "cell_type": "markdown",
   "id": "b9846b7d",
   "metadata": {},
   "source": [
    "Q5. Using a while loop, verify if the number A is purely divisible by number B and if so then how many \n",
    "times it can be divisible."
   ]
  },
  {
   "cell_type": "code",
   "execution_count": 4,
   "id": "e892eb85",
   "metadata": {},
   "outputs": [
    {
     "name": "stdout",
     "output_type": "stream",
     "text": [
      "100 is divisible by 25 and can be divided 1 times.\n"
     ]
    }
   ],
   "source": [
    "A = 100\n",
    "B = 25\n",
    "count=0\n",
    "og_A = A\n",
    "\n",
    "while A%B==0:\n",
    "    count += 1\n",
    "    A /= B\n",
    "    \n",
    "if count > 0:\n",
    "    print(f\"{og_A} is divisible by {B} and can be divided {count} times.\")\n",
    "else:\n",
    "    print(f\"{og_A} is not divisible by {B}.\")"
   ]
  },
  {
   "cell_type": "markdown",
   "id": "3596f147",
   "metadata": {},
   "source": [
    "Q6. Create a list containing 25 int type data. Using for loop and if-else condition print if the element is \n",
    "divisible by 3 or not"
   ]
  },
  {
   "cell_type": "code",
   "execution_count": 5,
   "id": "dbd7c749",
   "metadata": {},
   "outputs": [
    {
     "name": "stdout",
     "output_type": "stream",
     "text": [
      "12 is divisible by 3\n",
      "21 is divisible by 3\n",
      "90 is divisible by 3\n",
      "345 is divisible by 3\n",
      "234 is divisible by 3\n",
      "87 is divisible by 3\n",
      "39 is divisible by 3\n",
      "54 is divisible by 3\n",
      "33 is divisible by 3\n"
     ]
    }
   ],
   "source": [
    "mylist2 = [10,20,13,1,4,134,12,19,21,23,98,90,345,37,14,56,234,34,87,39,54,55,22,33,11]\n",
    "\n",
    "for i in mylist2:\n",
    "    if i%3==0:\n",
    "        print(f\"{i} is divisible by 3\")"
   ]
  },
  {
   "cell_type": "markdown",
   "id": "03582808",
   "metadata": {},
   "source": [
    "Q7. What do you understand about mutable and immutable data types? Give examples for both showing \n",
    "this property."
   ]
  },
  {
   "cell_type": "code",
   "execution_count": 6,
   "id": "975bd641",
   "metadata": {},
   "outputs": [
    {
     "name": "stdout",
     "output_type": "stream",
     "text": [
      "[1, 2, 3, 4]\n"
     ]
    }
   ],
   "source": [
    "# A mutable data type is a datatype in which we can make changes to the actual data in the memory. For ex. List\n",
    "l = [1,2,3,\"hello\"]\n",
    "l[3] = 4\n",
    "print(l)"
   ]
  },
  {
   "cell_type": "code",
   "execution_count": 7,
   "id": "0fce544e",
   "metadata": {},
   "outputs": [
    {
     "ename": "TypeError",
     "evalue": "'str' object does not support item assignment",
     "output_type": "error",
     "traceback": [
      "\u001b[1;31m---------------------------------------------------------------------------\u001b[0m",
      "\u001b[1;31mTypeError\u001b[0m                                 Traceback (most recent call last)",
      "Cell \u001b[1;32mIn[7], line 3\u001b[0m\n\u001b[0;32m      1\u001b[0m \u001b[38;5;66;03m# An immutable datatype is a datatype which cannot be changed. For ex. String\u001b[39;00m\n\u001b[0;32m      2\u001b[0m s \u001b[38;5;241m=\u001b[39m \u001b[38;5;124m\"\u001b[39m\u001b[38;5;124mhallo world\u001b[39m\u001b[38;5;124m\"\u001b[39m\n\u001b[1;32m----> 3\u001b[0m \u001b[43ms\u001b[49m\u001b[43m[\u001b[49m\u001b[38;5;241;43m1\u001b[39;49m\u001b[43m]\u001b[49m \u001b[38;5;241m=\u001b[39m \u001b[38;5;124m\"\u001b[39m\u001b[38;5;124me\u001b[39m\u001b[38;5;124m\"\u001b[39m\n",
      "\u001b[1;31mTypeError\u001b[0m: 'str' object does not support item assignment"
     ]
    }
   ],
   "source": [
    "# An immutable datatype is a datatype which cannot be changed. For ex. String\n",
    "s = \"hallo world\"\n",
    "s[1] = \"e\""
   ]
  }
 ],
 "metadata": {
  "kernelspec": {
   "display_name": "Python 3 (ipykernel)",
   "language": "python",
   "name": "python3"
  },
  "language_info": {
   "codemirror_mode": {
    "name": "ipython",
    "version": 3
   },
   "file_extension": ".py",
   "mimetype": "text/x-python",
   "name": "python",
   "nbconvert_exporter": "python",
   "pygments_lexer": "ipython3",
   "version": "3.11.3"
  }
 },
 "nbformat": 4,
 "nbformat_minor": 5
}
