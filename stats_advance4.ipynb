{
  "nbformat": 4,
  "nbformat_minor": 0,
  "metadata": {
    "colab": {
      "provenance": [],
      "authorship_tag": "ABX9TyNHWp6gsf9AajuQ8pv9ogdc",
      "include_colab_link": true
    },
    "kernelspec": {
      "name": "python3",
      "display_name": "Python 3"
    },
    "language_info": {
      "name": "python"
    }
  },
  "cells": [
    {
      "cell_type": "markdown",
      "metadata": {
        "id": "view-in-github",
        "colab_type": "text"
      },
      "source": [
        "<a href=\"https://colab.research.google.com/github/rat145/pw_assignments/blob/main/stats_advance4.ipynb\" target=\"_parent\"><img src=\"https://colab.research.google.com/assets/colab-badge.svg\" alt=\"Open In Colab\"/></a>"
      ]
    },
    {
      "cell_type": "markdown",
      "source": [
        "### Q1: What is the difference between a t-test and a z-test? Provide an example scenario where you would use each type of test.\n",
        "\n",
        "\n",
        "A t-test and a z-test are both statistical tests used to make inferences about population parameters based on sample data. They are commonly used in hypothesis testing when comparing means or proportions, but they have different applications and assumptions:\n",
        "\n",
        "\n",
        "T-Test:\n",
        "\n",
        "*Use Case*: T-tests are typically used when you are dealing with small sample sizes (typically less than 30) and the population standard deviation is unknown.\n",
        "\n",
        "*Assumption*: The data should follow a normal distribution (approximately), and the samples should be independent.\n",
        "\n",
        "*Formula*: There are two main types of t-tests:\n",
        "\n",
        "Independent Samples T-Test: Used to compare the means of two independent groups. For example, you might use an independent samples t-test to determine if there is a significant difference in the average test scores of students from two different schools.\n",
        "\n",
        "Paired Samples T-Test: Used to compare the means of two related groups or to test the difference between two measurements taken on the same group. For example, you might use a paired samples t-test to assess if a new drug treatment has a significant impact on patients' blood pressure by comparing their blood pressure before and after treatment.\n",
        "\n",
        "Z-Test:\n",
        "\n",
        "*Use Case*: Z-tests are used when you have a large sample size (typically greater than 30) or when you know the population standard deviation. Z-tests are often used for testing hypotheses about population means or proportions.\n",
        "\n",
        "*Assumption*: Similar to t-tests, the data should follow a normal distribution (approximately), and the samples should be independent.\n",
        "\n",
        "*Formula*: The formula for a z-test involves calculating the z-statistic, which is a measure of how many standard deviations a sample mean is away from the population mean. It is often used for hypothesis tests like testing whether a new product's mean sales are significantly different from the historical average.\n",
        "\n",
        "\n",
        "Example Scenarios:\n",
        "\n",
        "T-Test Scenario:\n",
        "Suppose you want to test whether a new teaching method is more effective than the traditional method in improving students' math scores. You randomly select 20 students and teach them using the new method, and another 20 students using the traditional method. After the teaching period, you collect their test scores. You can use an independent samples t-test to determine if there is a statistically significant difference in the mean test scores between the two groups.\n",
        "\n",
        "Z-Test Scenario:\n",
        "Imagine you are conducting a quality control study in a factory, and you want to assess whether a new machine produces bolts with a mean length significantly different from the established mean length of 5 inches, with a known population standard deviation of 0.2 inches. If you collect a large sample of bolts (say, n = 100), you can use a z-test to test whether the mean length of the bolts produced by the new machine is significantly different from 5 inches."
      ],
      "metadata": {
        "id": "D_Tj3emt61Qr"
      }
    },
    {
      "cell_type": "markdown",
      "source": [
        "### Q2: Differentiate between one-tailed and two-tailed tests.\n",
        "\n",
        "One-tailed tests focus on detecting a significant difference in one direction (e.g., greater than or less than), while two-tailed tests examine the possibility of a significant difference in either direction (greater than or less than)."
      ],
      "metadata": {
        "id": "d57CcDJg8o11"
      }
    },
    {
      "cell_type": "markdown",
      "source": [
        "### Q3: Explain the concept of Type 1 and Type 2 errors in hypothesis testing. Provide an example scenario for each type of error.\n",
        "\n",
        "\n",
        "Type 1 Error (False Positive): Incorrectly rejecting a true null hypothesis. Example: Concluding a person is guilty (alternative hypothesis) when they are innocent (null hypothesis) in a criminal trial.\n",
        "\n",
        "Type 2 Error (False Negative): Failing to reject a false null hypothesis. Example: Concluding a medical test is negative (null hypothesis) when a person actually has a disease (alternative hypothesis)."
      ],
      "metadata": {
        "id": "s0tjgmzF85uD"
      }
    },
    {
      "cell_type": "markdown",
      "source": [
        "### Q4: Explain Bayes's theorem with an example.\n",
        "\n",
        "Bayes's theorem is a mathematical formula that helps update the probability of a hypothesis based on new evidence. It is used in Bayesian statistics.\n",
        "\n",
        "Formula:\n",
        "![image.png](data:image/png;base64,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)\n",
        "\n",
        "\n",
        "Example: Imagine you want to know the probability of a person having a rare disease (A) given that they tested positive (B). You need to consider the probability of testing positive when having the disease (P(B|A)), the prior probability of having the disease (P(A)), and the overall probability of testing positive (P(B)). Bayes's theorem helps you calculate P(A|B)."
      ],
      "metadata": {
        "id": "b8lp25EA9PCS"
      }
    },
    {
      "cell_type": "markdown",
      "source": [
        "### Q5: What is a confidence interval? How to calculate the confidence interval, explain with an example.\n",
        "\n",
        "A confidence interval is a range of values that is likely to contain the true population parameter, such as a population mean or proportion, with a certain level of confidence.\n",
        "\n",
        "To calculate a confidence interval, you typically use the formula:\n",
        "\n",
        "Confidence Interval = Sample Statistic ± Margin of Error\n",
        "\n",
        "Example: Suppose you want to calculate a 95% confidence interval for the average height of a population based on a sample of 100 people. If the sample mean height is 65 inches, and the standard error (a measure of sample variability) is 2 inches, the confidence interval would be:\n",
        "\n",
        "65\n",
        "±\n",
        "1.96\n",
        "×\n",
        "2\n",
        " inches\n",
        "65±1.96×2 inches\n",
        "\n",
        "This interval (61.08 to 68.92 inches) suggests that you can be 95% confident that the true average height of the population falls within this range."
      ],
      "metadata": {
        "id": "h70rvojH90K2"
      }
    },
    {
      "cell_type": "markdown",
      "source": [
        "### Q6. Use Bayes' Theorem to calculate the probability of an event occurring given prior knowledge of the event's probability and new evidence. Provide a sample problem and solution.\n",
        "\n",
        "Bayes’ Theorem is a mathematical formula used to calculate conditional probabilities. It is used to calculate the probability of an event occurring given prior knowledge of the event’s probability and new evidence. The formula is as follows:\n",
        "\n",
        "P(A|B) = P(B|A) * P(A) / P(B)\n",
        "\n",
        "where P(A|B) is the probability of A given B, P(B|A) is the probability of B given A, P(A) is the prior probability of A, and P(B) is the prior probability of B.\n",
        "\n",
        "An example problem with solution:\n",
        "\n",
        "Calculate P (B/A) if P (A/B) = 0.25, P (A) = 0.4 and P (B) = 0.5 using Bayes theorem.\n",
        "\n",
        "Solution:\n",
        "\n",
        "P (A/B) = 0.25, P (A) = 0.4, and P (B) = 0.5.\n",
        "\n",
        "Using Bayes’ theorem, we can calculate:\n",
        "\n",
        "P (B/A) = P (A/B) * P (B) / P (A)\n",
        "\n",
        "= 0.25 * 0.5 / 0.4\n",
        "\n",
        "= 0.3125\n",
        "\n",
        "Therefore, the probability of B occurring given A is 0.3125."
      ],
      "metadata": {
        "id": "k05QINuQ-VgS"
      }
    },
    {
      "cell_type": "markdown",
      "source": [
        "### Q7. Calculate the 95% confidence interval for a sample of data with a mean of 50 and a standard deviation of 5. Interpret the results.\n",
        "\n",
        "To calculate a 95% confidence interval for a sample of data with a mean of 50 and a standard deviation of 5, we can use the following formula:\n",
        "\n",
        "Lower limit = M - Z.95 σ M Upper limit = M + Z.95 σ M\n",
        "\n",
        "where M is the sample mean, σ is the sample standard deviation, and Z.95 is the Z-value for a 95% confidence level, which is 1.96.\n",
        "\n",
        "Substituting the values in the formula, we get:\n",
        "\n",
        "Lower limit = 50 - (1.96 * (5 / √n))\n",
        "Upper limit = 50 + (1.96 * (5 / √n))\n",
        "\n",
        "Since we don’t have any information about the sample size, we can’t calculate the exact confidence interval. However, we can still interpret the results.\n",
        "\n",
        "A confidence interval is a range of values that we are confident contains the true population parameter with a certain level of confidence. In this case, we are 95% confident that the true population mean falls within the calculated interval.\n",
        "\n",
        "Therefore, we can say that with 95% confidence, the population mean lies between Lower limit and Upper limit."
      ],
      "metadata": {
        "id": "d6e9zDcB_Vvz"
      }
    },
    {
      "cell_type": "markdown",
      "source": [
        "### Q8. What is the margin of error in a confidence interval? How does sample size affect the margin of error? Provide an example of a scenario where a larger sample size would result in a smaller margin of error.\n",
        "\n",
        "The margin of error is a measure of the uncertainty in an estimate of a population parameter. It is the range of values below and above the sample statistic in a confidence interval. The confidence interval is a way to show what the uncertainty is with a certain statistic (i.e. from a poll or survey). For example, a poll might state that there is a 98% confidence interval of 4.88 and 5.26.\n",
        "\n",
        "The margin of error and sample size have an inverse relationship, meaning that as the sample size increases, the margin of error decreases. This is because a larger sample size is more likely to represent the population accurately than a smaller sample size.\n",
        "\n",
        "For instance, consider two scenarios where we want to estimate the proportion of people who prefer brand A over brand B in a population. In scenario 1, we survey 100 people and find that 60% prefer brand A over brand B. In scenario 2, we survey 1000 people and find that 60% prefer brand A over brand B. In both scenarios, we use a 95% confidence level.\n",
        "\n",
        "Using the formula for calculating the margin of error for a population proportion, we can calculate that in scenario 1, the margin of error is approximately **9.8%** while in scenario 2, it is approximately **3.1%**. This means that with a larger sample size (scenario 2), we can be more confident that our estimate of the population proportion is accurate."
      ],
      "metadata": {
        "id": "pCj9WgSA_1cA"
      }
    },
    {
      "cell_type": "markdown",
      "source": [
        "### Q9. Calculate the z-score for a data point with a value of 75, a population mean of 70, and a population standard deviation of 5. Interpret the results.\n",
        "\n",
        "To calculate the z-score for a data point with a value of 75, a population mean of 70, and a population standard deviation of 5, we can use the following formula:\n",
        "\n",
        "z = (x - μ) / σ\n",
        "\n",
        "where x is the data point, μ is the population mean, and σ is the population standard deviation.\n",
        "\n",
        "Substituting the values in the formula, we get:\n",
        "\n",
        "z = (75 - 70) / 5\n",
        "\n",
        "= **1**\n",
        "\n",
        "Therefore, the z-score for this data point is **1**.\n",
        "\n",
        "The z-score is a measure of how many standard deviations an element is from the mean of the population. In this case, since the z-score is positive, it means that the data point is above the mean of the population by one standard deviation."
      ],
      "metadata": {
        "id": "rdc1hK64Au-O"
      }
    },
    {
      "cell_type": "markdown",
      "source": [
        "### Q10. In a study of the effectiveness of a new weight loss drug, a sample of 50 participants lost an average of 6 pounds with a standard deviation of 2.5 pounds. Conduct a hypothesis test to determine if the drug is significantly effective at a 95% confidence level using a t-test.\n",
        "\n",
        "To determine if the new weight loss drug is significantly effective at a 95% confidence level using a t-test, we need to set up the null and alternative hypotheses.\n",
        "\n",
        "The null hypothesis, denoted by H0, is that the drug is not effective, meaning that the average weight loss is equal to zero. The alternative hypothesis, denoted by Ha, is that the drug is effective, meaning that the average weight loss is greater than zero.\n",
        "\n",
        "H0: μ = 0\n",
        "Ha: μ > 0\n",
        "\n",
        "Here, μ represents the population mean weight loss.\n",
        "\n",
        "We can use a one-sample t-test to test these hypotheses. The test statistic is calculated as:\n",
        "\n",
        "t = (x̄ - μ) / (s / sqrt(n))\n",
        "\n",
        "where x̄ is the sample mean weight loss, μ is the hypothesized population mean weight loss under the null hypothesis, s is the sample standard deviation of weight loss, and n is the sample size.\n",
        "\n",
        "Substituting the given values into this formula, we get:\n",
        "\n",
        "t = (6 - 0) / (2.5 / sqrt(50)) = 12\n",
        "\n",
        "Using a t-distribution table with 49 degrees of freedom (n - 1), we find that the critical value for a one-tailed test at a 95% confidence level is approximately 1.68.\n",
        "\n",
        "Since our calculated t-value of 12 is greater than this critical value, we reject the null hypothesis and conclude that there is sufficient evidence to suggest that the new weight loss drug is significantly effective at a 95% confidence level.\n",
        "\n",
        "Therefore, we can say that there is strong evidence to support the effectiveness of this new weight loss drug."
      ],
      "metadata": {
        "id": "C3zmeVDrBPzz"
      }
    },
    {
      "cell_type": "markdown",
      "source": [
        "### Q11. In a survey of 500 people, 65% reported being satisfied with their current job. Calculate the 95% confidence interval for the true proportion of people who are satisfied with their job.\n",
        "\n",
        "To calculate the 95% confidence interval for the true proportion of people who are satisfied with their job, we can use the following formula:\n",
        "\n",
        "CI = p ± z*sqrt(p*(1-p)/n)\n",
        "\n",
        "where CI is the confidence interval, p is the sample proportion, z is the z-score corresponding to the desired confidence level, and n is the sample size.\n",
        "\n",
        "Here, we have a sample size of 500 and a sample proportion of 0.65. To find the z-score corresponding to a 95% confidence level, we can use a standard normal distribution table or calculator. The z-score for a 95% confidence level is approximately 1.96.\n",
        "\n",
        "Substituting these values into the formula, we get:\n",
        "\n",
        "CI = 0.65 ± 1.96*sqrt(0.65*(1-0.65)/500)\n",
        "\n",
        "CI = [0.610, 0.690]\n",
        "\n",
        "Therefore, we can say with 95% confidence that the true proportion of people who are satisfied with their job lies between **61.0%** and **69.0%**."
      ],
      "metadata": {
        "id": "7SkCx-xvudL0"
      }
    },
    {
      "cell_type": "markdown",
      "source": [
        "### Q12. A researcher is testing the effectiveness of two different teaching methods on student performance. Sample A has a mean score of 85 with a standard deviation of 6, while sample B has a mean score of 82 with a standard deviation of 5. Conduct a hypothesis test to determine if the two teaching methods have a significant difference in student performance using a t-test with a significance level of 0.01.\n",
        "\n",
        "To determine if there is a significant difference in student performance between the two teaching methods, we can use a two-sample t-test. The null hypothesis, denoted by H0, is that there is no difference in the mean scores of the two teaching methods. The alternative hypothesis, denoted by Ha, is that there is a significant difference in the mean scores of the two teaching methods.\n",
        "\n",
        "H0: μ1 = μ2\n",
        "Ha: μ1 ≠ μ2\n",
        "\n",
        "Here, μ1 and μ2 represent the population mean scores for teaching methods A and B, respectively.\n",
        "\n",
        "We can use the following formula to calculate the test statistic:\n",
        "\n",
        "t = (x̄1 - x̄2) / sqrt(s1^2/n1 + s2^2/n2)\n",
        "\n",
        "where x̄1 and x̄2 are the sample means for teaching methods A and B, s1 and s2 are the sample standard deviations for teaching methods A and B, and n1 and n2 are the sample sizes for teaching methods A and B.\n",
        "\n",
        "Substituting the given values into this formula, we get:\n",
        "\n",
        "t = (85 - 82) / sqrt((6^2/50) + (5^2/50)) = 3 / 0.978 = 3.07\n",
        "\n",
        "Using a t-distribution table with 98 degrees of freedom (n1 + n2 - 2), we find that the critical value for a two-tailed test at a 99% confidence level is approximately ±2.62.\n",
        "\n",
        "Since our calculated t-value of 3.07 is greater than this critical value, we reject the null hypothesis and conclude that there is sufficient evidence to suggest that there is a significant difference in student performance between the two teaching methods at a significance level of 0.01.\n",
        "\n",
        "Therefore, we can say that there is strong evidence to support that one teaching method is more effective than the other."
      ],
      "metadata": {
        "id": "k_mDB7I5vPZL"
      }
    },
    {
      "cell_type": "markdown",
      "source": [
        "### Q13. A population has a mean of 60 and a standard deviation of 8. A sample of 50 observations has a mean of 65. Calculate the 90% confidence interval for the true population mean.\n",
        "\n",
        "To calculate the 90% confidence interval for the true population mean, we can use the following formula:\n",
        "\n",
        "CI = x̄ ± z*(σ / sqrt(n))\n",
        "\n",
        "where CI is the confidence interval, x̄ is the sample mean, σ is the population standard deviation, n is the sample size, and z is the z-score corresponding to the desired confidence level.\n",
        "\n",
        "Here, we have a sample size of 50, a sample mean of 65, a population mean of 60, and a population standard deviation of 8. To find the z-score corresponding to a 90% confidence level, we can use a standard normal distribution table or calculator. The z-score for a 90% confidence level is approximately 1.645.\n",
        "\n",
        "Substituting these values into the formula, we get:\n",
        "\n",
        "CI = 65 ± 1.645*(8 / sqrt(50))\n",
        "\n",
        "CI = [62.2, 67.8]\n",
        "\n",
        "Therefore, we can say with 90% confidence that the true population mean lies between **62.2** and **67.8**."
      ],
      "metadata": {
        "id": "gBOgnqSm0qsf"
      }
    },
    {
      "cell_type": "markdown",
      "source": [
        "### Q14. In a study of the effects of caffeine on reaction time, a sample of 30 participants had an average reaction time of 0.25 seconds with a standard deviation of 0.05 seconds. Conduct a hypothesis test to determine if the caffeine has a significant effect on reaction time at a 90% confidence level using a t-test.\n",
        "\n",
        "To determine if caffeine has a significant effect on reaction time at a 90% confidence level using a t-test, we need to set up the null and alternative hypotheses.\n",
        "\n",
        "The null hypothesis, denoted by H0, is that caffeine has no effect on reaction time, meaning that the average reaction time is equal to 0.25 seconds. The alternative hypothesis, denoted by Ha, is that caffeine has a significant effect on reaction time, meaning that the average reaction time is different from 0.25 seconds.\n",
        "\n",
        "H0: μ = 0.25\n",
        "Ha: μ ≠ 0.25\n",
        "\n",
        "Here, μ represents the population mean reaction time.\n",
        "\n",
        "We can use a one-sample t-test to test these hypotheses. The test statistic is calculated as:\n",
        "\n",
        "t = (x̄ - μ) / (s / sqrt(n))\n",
        "\n",
        "where x̄ is the sample mean reaction time, μ is the hypothesized population mean reaction time under the null hypothesis, s is the sample standard deviation of reaction time, and n is the sample size.\n",
        "\n",
        "Substituting the given values into this formula, we get:\n",
        "\n",
        "t = (0.25 - 0.25) / (0.05 / sqrt(30)) = 0\n",
        "\n",
        "Using a t-distribution table with 29 degrees of freedom (n - 1), we find that the critical values for a two-tailed test at a 90% confidence level are approximately ±1.699.\n",
        "\n",
        "Since our calculated t-value of 0 falls within this range, we fail to reject the null hypothesis and conclude that there is insufficient evidence to suggest that caffeine has a significant effect on reaction time at a 90% confidence level.\n",
        "\n",
        "Therefore, we can say that there is no strong evidence to support the effectiveness of caffeine in improving reaction time."
      ],
      "metadata": {
        "id": "VYXp8Zfw1TRP"
      }
    }
  ]
}