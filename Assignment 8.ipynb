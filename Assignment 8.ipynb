{
 "cells": [
  {
   "cell_type": "code",
   "execution_count": 3,
   "metadata": {},
   "outputs": [],
   "source": [
    "import logging\n",
    "logging.basicConfig(filename = \"pw1.log\", level = logging.DEBUG)"
   ]
  },
  {
   "cell_type": "markdown",
   "metadata": {},
   "source": [
    "### Q.1 What is an Exception in Python? Write the difference between Exceptions and Syntax errors."
   ]
  },
  {
   "cell_type": "markdown",
   "metadata": {},
   "source": [
    "- An exception is nothing but the error found while executing the code.\n",
    "- The error disrupts the normal flow of code.\n",
    "- Hence there are try - except blocks to handle the exceptions.\n",
    "- It helps in maintaining the normal flow of code despite having an error/exception.\n",
    "\n",
    "Difference between Exceptions and Syntax errors:\n",
    "1. In exceptions, the errors are found during run-time while in syntax errors they are found during the parsing stage (before the execution of code).\n",
    "2. Exceptions can be handled using try - except blocks while syntax errors have to fixed in place.\n",
    "3. Exceptions, once handled can maintain the flow of code while syntax errors will not let the code execution start in the first place."
   ]
  },
  {
   "cell_type": "markdown",
   "metadata": {},
   "source": [
    "### Q.2 What happens when an Exception is not handled? Explain with an example."
   ]
  },
  {
   "cell_type": "markdown",
   "metadata": {},
   "source": [
    "When exceptions are not handled, the code stops executing from that point. In the example below, we can see that the first piece of code gets executed and next throws an exception. "
   ]
  },
  {
   "cell_type": "code",
   "execution_count": 2,
   "metadata": {},
   "outputs": [
    {
     "name": "stdout",
     "output_type": "stream",
     "text": [
      "15\n"
     ]
    },
    {
     "ename": "ZeroDivisionError",
     "evalue": "division by zero",
     "output_type": "error",
     "traceback": [
      "\u001b[1;31m---------------------------------------------------------------------------\u001b[0m",
      "\u001b[1;31mZeroDivisionError\u001b[0m                         Traceback (most recent call last)",
      "Cell \u001b[1;32mIn[2], line 6\u001b[0m\n\u001b[0;32m      3\u001b[0m \u001b[39mprint\u001b[39m(a)\n\u001b[0;32m      5\u001b[0m logging\u001b[39m.\u001b[39minfo(\u001b[39m\"\u001b[39m\u001b[39mDividing 10 by 0\u001b[39m\u001b[39m\"\u001b[39m)\n\u001b[1;32m----> 6\u001b[0m \u001b[39mprint\u001b[39m(\u001b[39m10\u001b[39;49m\u001b[39m/\u001b[39;49m\u001b[39m0\u001b[39;49m)\n",
      "\u001b[1;31mZeroDivisionError\u001b[0m: division by zero"
     ]
    }
   ],
   "source": [
    "a = 10+5\n",
    "logging.info(f\"printing value of {a}\")\n",
    "print(a)\n",
    "\n",
    "logging.info(\"Dividing 10 by 0\")\n",
    "print(10/0)"
   ]
  },
  {
   "cell_type": "markdown",
   "metadata": {},
   "source": [
    "### Q.3 Which Python statements are used to catch and handle Exceptions? Explain with an example."
   ]
  },
  {
   "cell_type": "markdown",
   "metadata": {},
   "source": [
    "There are several statements which are used to catch and handle exceptions which are used after the try block. Here is how they are used:"
   ]
  },
  {
   "cell_type": "code",
   "execution_count": 3,
   "metadata": {},
   "outputs": [
    {
     "name": "stdout",
     "output_type": "stream",
     "text": [
      "division by zero\n",
      "This will execute regardless of any exceptions found or not\n"
     ]
    }
   ],
   "source": [
    "try:\n",
    "    logging.info(\"inside try block printing 4/0\")\n",
    "    print(4/0)\n",
    "except ZeroDivisionError as e:\n",
    "    logging.info(f\"inside except block displaying error {e}\")\n",
    "    print(e)\n",
    "else:\n",
    "    logging.info(\"inside else block\")\n",
    "    print(\"This will execute only when the try block is successfully executed\")\n",
    "finally:\n",
    "    logging.info(\"inside finally block\")\n",
    "    print(\"This will execute regardless of any exceptions found or not\")"
   ]
  },
  {
   "cell_type": "markdown",
   "metadata": {},
   "source": [
    "### Q.4 Explain with an example:\n",
    "#### a. try and else\n",
    "#### b. finally\n",
    "#### c. raise"
   ]
  },
  {
   "cell_type": "code",
   "execution_count": 4,
   "metadata": {},
   "outputs": [
    {
     "name": "stdout",
     "output_type": "stream",
     "text": [
      "This will execute only when try block has succesfully executed\n"
     ]
    }
   ],
   "source": [
    "# try and else\n",
    "\n",
    "try:\n",
    "    logging.info(\"inside try block adding 1 and 2 assigning it to a\")\n",
    "    a = 1+2\n",
    "except Exception as e:\n",
    "    logging.info(\"inside exception block\")\n",
    "    print(e)\n",
    "else:\n",
    "    logging.info(\"inside else block\")\n",
    "    print(\"This will execute only when try block has succesfully executed\")"
   ]
  },
  {
   "cell_type": "markdown",
   "metadata": {},
   "source": [
    "In the above code we can see how the else block works. It only executes when the try block has successfully executed. If there would have been any exceptions then the else block wouldn't have been executed."
   ]
  },
  {
   "cell_type": "code",
   "execution_count": 6,
   "metadata": {},
   "outputs": [
    {
     "name": "stdout",
     "output_type": "stream",
     "text": [
      "division by zero\n",
      "Bye\n"
     ]
    }
   ],
   "source": [
    "# finally\n",
    "\n",
    "try:\n",
    "    logging.info(\"inside try block\")\n",
    "    a = 193/0\n",
    "except ZeroDivisionError as e:\n",
    "    logging.info(\"inside except block\")\n",
    "    print(e)\n",
    "else:\n",
    "    logging.info(\"try block success\")\n",
    "finally:\n",
    "    logging.info(\"inside finally\")\n",
    "    print(\"Bye\")"
   ]
  },
  {
   "cell_type": "markdown",
   "metadata": {},
   "source": [
    "In the above code, the finally block can be seen executed despite the try block throwing an exception. It will also be executed even if the try block is successful. Hence finally block always get executed in the end."
   ]
  },
  {
   "cell_type": "code",
   "execution_count": 7,
   "metadata": {},
   "outputs": [],
   "source": [
    "# raise\n",
    "\n",
    "class MonthException(Exception):\n",
    "    logging.info(\"inside month exception class\")\n",
    "    def __init__(self,msg):\n",
    "        logging.info(\"inside constructor function of month exception class\")\n",
    "        self.msg = msg\n",
    "\n",
    "def checkMonthNo(mn):\n",
    "    logging.info(\"inside check month no function\")\n",
    "    if mn < 1 :\n",
    "        logging.info(\"inside if block month no is less than 1\")\n",
    "        raise MonthException(\"Month no. cannot be less than 1\")\n",
    "    elif mn > 12 :\n",
    "        logging.info(\"inside elif block month no is greater than 12\")\n",
    "        raise MonthException(\"Month no. cannot be more than 12\")\n",
    "    else:\n",
    "        logging.info(\"inside else block the month no is valid\")\n",
    "        print(\"Month no. is valid\")"
   ]
  },
  {
   "cell_type": "code",
   "execution_count": 9,
   "metadata": {},
   "outputs": [
    {
     "name": "stdout",
     "output_type": "stream",
     "text": [
      "Month no. cannot be more than 12\n"
     ]
    }
   ],
   "source": [
    "try:\n",
    "    logging.info(\"inside try block taking month no input\")\n",
    "    month_no = int(input(\"Enter month number: \"))\n",
    "    logging.info(\"passing the input taken to check month no function\")\n",
    "    checkMonthNo(month_no)\n",
    "except MonthException as e:\n",
    "    logging.info(\"inside except block handling month exception\")\n",
    "    print(e)"
   ]
  },
  {
   "cell_type": "markdown",
   "metadata": {},
   "source": [
    "### Q.5 What are custom Exceptions in python? Why do we need custom exceptions? Explain with an example."
   ]
  },
  {
   "cell_type": "markdown",
   "metadata": {},
   "source": [
    "- Custom exceptions are those exceptions which we want to raise when a specific condition is met.\n",
    "- For example we are taking input a month number. Month numbers are from 1 to 12. We want to raise an error if th euser enters a number which doesn't lie between 1 and 12.\n",
    "- That is why we need custom exceptions so that we can make and handle custom errors.\n",
    "- Here is an example:"
   ]
  },
  {
   "cell_type": "code",
   "execution_count": 10,
   "metadata": {},
   "outputs": [],
   "source": [
    "class MonthException(Exception):\n",
    "    logging.info(\"inside month exception class\")\n",
    "    def __init__(self,msg):\n",
    "        logging.info(\"inside constructor function of month exception class\")\n",
    "        self.msg = msg\n",
    "\n",
    "def checkMonthNo(mn):\n",
    "    logging.info(\"inside check month no function\")\n",
    "    if mn < 1 :\n",
    "        logging.info(\"inside if block month no is less than 1\")\n",
    "        raise MonthException(\"Month no. cannot be less than 1\")\n",
    "    elif mn > 12 :\n",
    "        logging.info(\"inside elif block month no is greater than 12\")\n",
    "        raise MonthException(\"Month no. cannot be more than 12\")\n",
    "    else:\n",
    "        logging.info(\"inside else block the month no is valid\")\n",
    "        print(\"Month no. is valid\")"
   ]
  },
  {
   "cell_type": "code",
   "execution_count": 11,
   "metadata": {},
   "outputs": [
    {
     "name": "stdout",
     "output_type": "stream",
     "text": [
      "Month no. cannot be less than 1\n"
     ]
    }
   ],
   "source": [
    "try:\n",
    "    logging.info(\"inside try block taking month no input\")\n",
    "    month_no = int(input(\"Enter month number: \"))\n",
    "    logging.info(\"passing the input taken to check month no function\")\n",
    "    checkMonthNo(month_no)\n",
    "except MonthException as e:\n",
    "    logging.info(\"inside except block handling month exception\")\n",
    "    print(e)"
   ]
  },
  {
   "cell_type": "markdown",
   "metadata": {},
   "source": [
    "### Q.6 Create a custom exception class. Use this class to handle an exception."
   ]
  },
  {
   "cell_type": "code",
   "execution_count": 14,
   "metadata": {},
   "outputs": [],
   "source": [
    "class PhoneException(Exception):\n",
    "    logging.info(\"inside PhoneException class\")\n",
    "    def __init__(self,msg):\n",
    "        logging.info(\"inside constructor function of PhoneException class\")\n",
    "        self.msg = msg\n",
    "\n",
    "def checkNumber(no):\n",
    "    logging.info(\"inside checkNumber function\")\n",
    "    if len(str(abs(no))) < 10:\n",
    "        logging.info(\"inside if block phone no is less than 10 digits\")\n",
    "        raise PhoneException(\"Phone no. cannot be less than 10 digits\")\n",
    "    elif len(str(abs(no))) >10:\n",
    "        logging.info(\"inside elif block phone no is more than 10 digits\")\n",
    "        raise PhoneException(\"Phone no. cannot be more than 10 digits\")\n",
    "    else:\n",
    "        logging.info(\"inside else block the phone no is valid\")\n",
    "        print(\"Phone number is valid\")"
   ]
  },
  {
   "cell_type": "code",
   "execution_count": 15,
   "metadata": {},
   "outputs": [
    {
     "name": "stdout",
     "output_type": "stream",
     "text": [
      "Phone number is valid\n"
     ]
    }
   ],
   "source": [
    "try:\n",
    "    logging.info(\"inside try block taking phone no input\")\n",
    "    ph_no = int(input(\"Enter phone number: \"))\n",
    "    logging.info(\"passing the input taken to checkNumber function\")\n",
    "    checkNumber(ph_no)\n",
    "except PhoneException as e:\n",
    "    logging.info(\"inside except block handling phone no exception\")\n",
    "    print(e)"
   ]
  },
  {
   "cell_type": "code",
   "execution_count": 16,
   "metadata": {},
   "outputs": [],
   "source": [
    "logging.shutdown()"
   ]
  }
 ],
 "metadata": {
  "kernelspec": {
   "display_name": "Python 3",
   "language": "python",
   "name": "python3"
  },
  "language_info": {
   "codemirror_mode": {
    "name": "ipython",
    "version": 3
   },
   "file_extension": ".py",
   "mimetype": "text/x-python",
   "name": "python",
   "nbconvert_exporter": "python",
   "pygments_lexer": "ipython3",
   "version": "3.11.3"
  },
  "orig_nbformat": 4
 },
 "nbformat": 4,
 "nbformat_minor": 2
}
