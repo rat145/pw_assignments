{
 "cells": [
  {
   "cell_type": "markdown",
   "id": "e5733920",
   "metadata": {},
   "source": [
    "### Q1. What is Abstraction in OOps? Explain with an example."
   ]
  },
  {
   "cell_type": "markdown",
   "id": "ffdfbf71",
   "metadata": {},
   "source": [
    "- Abstraction means declaring methods as abstract in a class.\n",
    "- Those methods are not defined, only declared.\n",
    "- The purpose of abstraction is to declare methods which should be used as it is to define in the subclasses.\n",
    "- For example, in an organization a leader makes an abstract class where he declares methods. Then his team follows and makes subclasses, using the same methods to define them."
   ]
  },
  {
   "cell_type": "code",
   "execution_count": 1,
   "id": "1d8d2f07",
   "metadata": {},
   "outputs": [],
   "source": [
    "import abc\n",
    "\n",
    "\n",
    "class Devices:\n",
    "    \n",
    "    @abc.abstractmethod\n",
    "    def getDeviceDetails(self,name,price):\n",
    "        pass\n",
    "    \n",
    "    @abc.abstractmethod\n",
    "    def putDeviceDetails(self):\n",
    "        pass\n",
    "    \n",
    "\n",
    "class MyDevices(Devices):\n",
    "    \n",
    "    def getDeviceDetails(self,name,price):\n",
    "        self.name = name\n",
    "        self.price = price\n",
    "        \n",
    "    def putDeviceDetails(self):\n",
    "        print(\"Device Name:\",self.name)\n",
    "        print(\"Price:\",self.price)"
   ]
  },
  {
   "cell_type": "code",
   "execution_count": 2,
   "id": "93387889",
   "metadata": {},
   "outputs": [],
   "source": [
    "obj1 = MyDevices()"
   ]
  },
  {
   "cell_type": "code",
   "execution_count": 3,
   "id": "e6044137",
   "metadata": {},
   "outputs": [],
   "source": [
    "obj1.getDeviceDetails(\"Acer Swift Laptop\", 60000)"
   ]
  },
  {
   "cell_type": "code",
   "execution_count": 4,
   "id": "5aed7771",
   "metadata": {},
   "outputs": [
    {
     "name": "stdout",
     "output_type": "stream",
     "text": [
      "Device Name: Acer Swift Laptop\n",
      "Price: 60000\n"
     ]
    }
   ],
   "source": [
    "obj1.putDeviceDetails()"
   ]
  },
  {
   "cell_type": "markdown",
   "id": "e3ff5a25",
   "metadata": {},
   "source": [
    "### Q2. Differentiate between Abstraction and Encapsulation. Explain with an example."
   ]
  },
  {
   "cell_type": "markdown",
   "id": "cbf7d96d",
   "metadata": {},
   "source": [
    "Abstraction:\n",
    "\n",
    "- Abstraction means declaring methods as abstract in a class.\n",
    "- Those methods are not defined, only declared.\n",
    "- The purpose of abstraction is to declare methods which should be used as it is to define in the subclasses.\n",
    "- For example, in an organization a leader makes an abstract class where he declares methods. Then his team follows and makes subclasses, using the same methods to define them."
   ]
  },
  {
   "cell_type": "markdown",
   "id": "5927fafd",
   "metadata": {},
   "source": [
    "Encapsulation:\n",
    "\n",
    "- Encapsulation means hiding data and controlling access of data to users.\n",
    "- We encapsulate a class into an object and only give access to methods or variables something which user is concerned with.\n",
    "- We control the access by making variables private and not allowing it to be changed.\n",
    "- It helps make program secure."
   ]
  },
  {
   "cell_type": "code",
   "execution_count": 5,
   "id": "83ed8bb3",
   "metadata": {},
   "outputs": [],
   "source": [
    "# Abstraction\n",
    "\n",
    "import abc\n",
    "\n",
    "\n",
    "class Devices:\n",
    "    \n",
    "    @abc.abstractmethod\n",
    "    def getDeviceDetails(self,name,price):\n",
    "        pass\n",
    "    \n",
    "    @abc.abstractmethod\n",
    "    def putDeviceDetails(self):\n",
    "        pass\n",
    "    \n",
    "\n",
    "class MyDevices(Devices):\n",
    "    \n",
    "    def getDeviceDetails(self,name,price):\n",
    "        self.name = name\n",
    "        self.price = price\n",
    "        \n",
    "    def putDeviceDetails(self):\n",
    "        print(\"Device Name:\",self.name)\n",
    "        print(\"Price:\",self.price)"
   ]
  },
  {
   "cell_type": "code",
   "execution_count": 10,
   "id": "e2cbdf8a",
   "metadata": {},
   "outputs": [],
   "source": [
    "obj2 = MyDevices()"
   ]
  },
  {
   "cell_type": "code",
   "execution_count": 11,
   "id": "b50af55f",
   "metadata": {},
   "outputs": [],
   "source": [
    "obj2.getDeviceDetails(\"Samsung S23 Ultra\", 100000)"
   ]
  },
  {
   "cell_type": "code",
   "execution_count": 12,
   "id": "b361c156",
   "metadata": {},
   "outputs": [
    {
     "name": "stdout",
     "output_type": "stream",
     "text": [
      "Device Name: Samsung S23 Ultra\n",
      "Price: 100000\n"
     ]
    }
   ],
   "source": [
    "obj2.putDeviceDetails()"
   ]
  },
  {
   "cell_type": "code",
   "execution_count": 19,
   "id": "0b28dc87",
   "metadata": {},
   "outputs": [],
   "source": [
    "# Encapsulation\n",
    "\n",
    "class UserDetails:\n",
    "    \n",
    "    def __init__(self,name,pswrd,phno):\n",
    "        self.name = name\n",
    "        self.__pswrd = pswrd\n",
    "        self.__phno = phno\n",
    "        \n",
    "    def whatIsMyPassword(self):\n",
    "        return self.__pswrd\n",
    "        \n",
    "    def whatIsMyPhone(self):\n",
    "        return self.__phno\n",
    "        \n",
    "    def changePassword(self,password):\n",
    "        self.__pswrd = password\n",
    "        return \"Password Successfully Updated\"\n",
    "    \n",
    "    def changePhoneNo(self,no):\n",
    "        self.__phno = no\n",
    "        return \"Phone Number Successfully Updated\""
   ]
  },
  {
   "cell_type": "code",
   "execution_count": 20,
   "id": "b8df85a5",
   "metadata": {},
   "outputs": [],
   "source": [
    "usr = UserDetails(\"Ratan\",\"sdfbk123\",23456786)"
   ]
  },
  {
   "cell_type": "code",
   "execution_count": 21,
   "id": "28cb062a",
   "metadata": {},
   "outputs": [
    {
     "data": {
      "text/plain": [
       "'Ratan'"
      ]
     },
     "execution_count": 21,
     "metadata": {},
     "output_type": "execute_result"
    }
   ],
   "source": [
    "usr.name"
   ]
  },
  {
   "cell_type": "code",
   "execution_count": 22,
   "id": "bbdeeefe",
   "metadata": {},
   "outputs": [],
   "source": [
    "# I am only able to access the name variable not the pswrd and phno"
   ]
  },
  {
   "cell_type": "code",
   "execution_count": 25,
   "id": "7ea96549",
   "metadata": {},
   "outputs": [
    {
     "data": {
      "text/plain": [
       "'sdfbk123'"
      ]
     },
     "execution_count": 25,
     "metadata": {},
     "output_type": "execute_result"
    }
   ],
   "source": [
    "usr.whatIsMyPassword()"
   ]
  },
  {
   "cell_type": "code",
   "execution_count": 26,
   "id": "e6ae05f1",
   "metadata": {},
   "outputs": [
    {
     "data": {
      "text/plain": [
       "23456786"
      ]
     },
     "execution_count": 26,
     "metadata": {},
     "output_type": "execute_result"
    }
   ],
   "source": [
    "usr.whatIsMyPhone()"
   ]
  },
  {
   "cell_type": "code",
   "execution_count": 27,
   "id": "44c0d264",
   "metadata": {},
   "outputs": [
    {
     "data": {
      "text/plain": [
       "'Phone Number Successfully Updated'"
      ]
     },
     "execution_count": 27,
     "metadata": {},
     "output_type": "execute_result"
    }
   ],
   "source": [
    "usr.changePhoneNo(23456544)"
   ]
  },
  {
   "cell_type": "code",
   "execution_count": 28,
   "id": "c3cc9989",
   "metadata": {},
   "outputs": [
    {
     "data": {
      "text/plain": [
       "23456544"
      ]
     },
     "execution_count": 28,
     "metadata": {},
     "output_type": "execute_result"
    }
   ],
   "source": [
    "usr.whatIsMyPhone()"
   ]
  },
  {
   "cell_type": "code",
   "execution_count": 29,
   "id": "5eebd4f7",
   "metadata": {},
   "outputs": [
    {
     "data": {
      "text/plain": [
       "'Password Successfully Updated'"
      ]
     },
     "execution_count": 29,
     "metadata": {},
     "output_type": "execute_result"
    }
   ],
   "source": [
    "usr.changePassword(\"adsbdk3489uhib324r\")"
   ]
  },
  {
   "cell_type": "code",
   "execution_count": 30,
   "id": "b6368a2a",
   "metadata": {},
   "outputs": [
    {
     "data": {
      "text/plain": [
       "'adsbdk3489uhib324r'"
      ]
     },
     "execution_count": 30,
     "metadata": {},
     "output_type": "execute_result"
    }
   ],
   "source": [
    "usr.whatIsMyPassword()"
   ]
  },
  {
   "cell_type": "markdown",
   "id": "ec82c0df",
   "metadata": {},
   "source": [
    "### Q3. What is abc module in python? Why is it used?"
   ]
  },
  {
   "cell_type": "markdown",
   "id": "52ebffa7",
   "metadata": {},
   "source": [
    "- abc module in python stands for abstract base class.\n",
    "- This module is used for abstraction.\n",
    "- It contains various methods revolving around abstraction."
   ]
  },
  {
   "cell_type": "markdown",
   "id": "2c280ded",
   "metadata": {},
   "source": [
    "### Q4. How can we achieve data abstraction?"
   ]
  },
  {
   "cell_type": "markdown",
   "id": "8cba6829",
   "metadata": {},
   "source": [
    "- We can avhieve data abstraction by declaring methods as abstract methods.\n",
    "- We do not have to implement the method. It has to be implemented by the subclasses.\n",
    "- It basically means we know \"what it does\" but not \"how it does\".\n",
    "- Hence we can use 'abc' module to achieve data abstraction in python."
   ]
  },
  {
   "cell_type": "code",
   "execution_count": 60,
   "id": "b6d57ce0",
   "metadata": {},
   "outputs": [],
   "source": [
    "import abc\n",
    "\n",
    "class Shape():\n",
    "    @abc.abstractmethod\n",
    "    def area(self):\n",
    "        pass\n",
    "    \n",
    "class Circle(Shape):\n",
    "    def __init__(self,r):\n",
    "        self.r = r\n",
    "    def area(self):\n",
    "        return 3.14*self.r*self.r\n",
    "    \n",
    "class Square(Shape):\n",
    "    def __init__(self,s):\n",
    "        self.s = s\n",
    "    def area(self):\n",
    "        return self.s**2\n",
    "    \n",
    "class Rectangle(Shape):\n",
    "    def __init__(self,l,b):\n",
    "        self.l = l\n",
    "        self.b = b\n",
    "    def area(self):\n",
    "        return self.l*self.b"
   ]
  },
  {
   "cell_type": "code",
   "execution_count": 61,
   "id": "28700f22",
   "metadata": {},
   "outputs": [],
   "source": [
    "# Here we have an abstract class Shape and it is implemented in three subclasses"
   ]
  },
  {
   "cell_type": "code",
   "execution_count": 62,
   "id": "284087f1",
   "metadata": {},
   "outputs": [
    {
     "data": {
      "text/plain": [
       "12.56"
      ]
     },
     "execution_count": 62,
     "metadata": {},
     "output_type": "execute_result"
    }
   ],
   "source": [
    "c = Circle(2)\n",
    "c.area()"
   ]
  },
  {
   "cell_type": "code",
   "execution_count": 63,
   "id": "20bb5fa3",
   "metadata": {},
   "outputs": [
    {
     "data": {
      "text/plain": [
       "100"
      ]
     },
     "execution_count": 63,
     "metadata": {},
     "output_type": "execute_result"
    }
   ],
   "source": [
    "sq = Square(10)\n",
    "sq.area()"
   ]
  },
  {
   "cell_type": "code",
   "execution_count": 64,
   "id": "b7b9704e",
   "metadata": {},
   "outputs": [
    {
     "data": {
      "text/plain": [
       "10"
      ]
     },
     "execution_count": 64,
     "metadata": {},
     "output_type": "execute_result"
    }
   ],
   "source": [
    "rect = Rectangle(5,2)\n",
    "rect.area()"
   ]
  },
  {
   "cell_type": "markdown",
   "id": "af239740",
   "metadata": {},
   "source": [
    "### Q5. Can we create an instance of an abstract class? Explain your answer."
   ]
  },
  {
   "cell_type": "markdown",
   "id": "309c00c4",
   "metadata": {},
   "source": [
    "- We cannot create an instance of an abstract class in python.\n",
    "- But to properly make our class abstract we also need to extend our class from Abstract class.\n",
    "- Otherwise it will not throw any error and we will be able to make an instance of the abstract class."
   ]
  }
 ],
 "metadata": {
  "kernelspec": {
   "display_name": "Python 3 (ipykernel)",
   "language": "python",
   "name": "python3"
  },
  "language_info": {
   "codemirror_mode": {
    "name": "ipython",
    "version": 3
   },
   "file_extension": ".py",
   "mimetype": "text/x-python",
   "name": "python",
   "nbconvert_exporter": "python",
   "pygments_lexer": "ipython3",
   "version": "3.11.3"
  }
 },
 "nbformat": 4,
 "nbformat_minor": 5
}
