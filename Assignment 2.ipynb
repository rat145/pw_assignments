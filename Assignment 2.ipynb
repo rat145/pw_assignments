{
 "cells": [
  {
   "cell_type": "markdown",
   "id": "f4141b7b",
   "metadata": {},
   "source": [
    "### Q1. How do you comment code in Python? What are the different types of comments?"
   ]
  },
  {
   "cell_type": "markdown",
   "id": "e2e7e548",
   "metadata": {},
   "source": [
    "- In every programming language, there are different ways to comment for multi line comments and single line comments.\n",
    "- Similarly, in Python we use (# ...) Hashtag symbol for a single line comment.\n",
    "- For multi line comment we use (\"\"\" ... \"\"\") three double inverted commas, which can also be stored in a variable for further use if required.\n",
    "\n",
    "Following cell contains examples for both:"
   ]
  },
  {
   "cell_type": "code",
   "execution_count": 2,
   "id": "3606aae1",
   "metadata": {},
   "outputs": [
    {
     "name": "stdout",
     "output_type": "stream",
     "text": [
      "I can also store it in a variable\n",
      "line 2\n",
      "line 3\n"
     ]
    }
   ],
   "source": [
    "# This is a single line comment\n",
    "\n",
    "\"\"\"This is a multi line comment\n",
    "we can write as many lines we want between these inverted commas\n",
    "end\"\"\"\n",
    "\n",
    "x = \"\"\"I can also store it in a variable\n",
    "line 2\n",
    "line 3\"\"\"\n",
    "\n",
    "print(x)"
   ]
  },
  {
   "cell_type": "markdown",
   "id": "c626918f",
   "metadata": {},
   "source": [
    "### Q2. What are variables in Python? How do you declare and assign values to variables?"
   ]
  },
  {
   "cell_type": "markdown",
   "id": "0ddd1b66",
   "metadata": {},
   "source": [
    "- Variables are like an identity given to some type of data.\n",
    "- The concept of variable is same across all programming languages including python.\n",
    "- It can be thought of as a data which is to be stored in a memory has got a name, which can be used to refer to that data thereafter.\n",
    "- However different programming languages have different rules for defining a variable.\n",
    "- In python, a variable cannot start with a number and it cannot start with any special character except '_' underscore."
   ]
  },
  {
   "cell_type": "code",
   "execution_count": 8,
   "id": "5cbef806",
   "metadata": {},
   "outputs": [],
   "source": [
    "a = 10\n",
    "_b = 20\n",
    "_ = 2"
   ]
  },
  {
   "cell_type": "code",
   "execution_count": 9,
   "id": "734901dd",
   "metadata": {},
   "outputs": [
    {
     "ename": "SyntaxError",
     "evalue": "invalid decimal literal (1153467413.py, line 1)",
     "output_type": "error",
     "traceback": [
      "\u001b[1;36m  Cell \u001b[1;32mIn[9], line 1\u001b[1;36m\u001b[0m\n\u001b[1;33m    12var = 2\u001b[0m\n\u001b[1;37m     ^\u001b[0m\n\u001b[1;31mSyntaxError\u001b[0m\u001b[1;31m:\u001b[0m invalid decimal literal\n"
     ]
    }
   ],
   "source": [
    "12var = 2"
   ]
  },
  {
   "cell_type": "code",
   "execution_count": 10,
   "id": "18338258",
   "metadata": {},
   "outputs": [
    {
     "ename": "SyntaxError",
     "evalue": "invalid syntax (1343848940.py, line 1)",
     "output_type": "error",
     "traceback": [
      "\u001b[1;36m  Cell \u001b[1;32mIn[10], line 1\u001b[1;36m\u001b[0m\n\u001b[1;33m    $var2 = \"helo\"\u001b[0m\n\u001b[1;37m    ^\u001b[0m\n\u001b[1;31mSyntaxError\u001b[0m\u001b[1;31m:\u001b[0m invalid syntax\n"
     ]
    }
   ],
   "source": [
    "$var2 = \"helo\""
   ]
  },
  {
   "cell_type": "markdown",
   "id": "558e9133",
   "metadata": {},
   "source": [
    "### Q3. How do you convert one data type to another in Python?"
   ]
  },
  {
   "cell_type": "markdown",
   "id": "a4b1be92",
   "metadata": {},
   "source": [
    "- Converting one data type to another is called typecasting.\n",
    "- Every data type also has its own function which can be used to convert one data type to another.\n",
    "\n",
    "We will understand how using examples:"
   ]
  },
  {
   "cell_type": "code",
   "execution_count": 11,
   "id": "a05adcfd",
   "metadata": {},
   "outputs": [
    {
     "name": "stdout",
     "output_type": "stream",
     "text": [
      "192.0\n"
     ]
    }
   ],
   "source": [
    "a = 192\n",
    "b = float(a)\n",
    "print(b)"
   ]
  },
  {
   "cell_type": "code",
   "execution_count": 12,
   "id": "5e897566",
   "metadata": {},
   "outputs": [
    {
     "data": {
      "text/plain": [
       "float"
      ]
     },
     "execution_count": 12,
     "metadata": {},
     "output_type": "execute_result"
    }
   ],
   "source": [
    "# We used the float function to convert an integer data into a floating number\n",
    "type(b)"
   ]
  },
  {
   "cell_type": "code",
   "execution_count": 13,
   "id": "854f27ff",
   "metadata": {},
   "outputs": [
    {
     "name": "stdout",
     "output_type": "stream",
     "text": [
      "982\n"
     ]
    }
   ],
   "source": [
    "s = \"982\"\n",
    "s1 = int(s)\n",
    "print(s1)"
   ]
  },
  {
   "cell_type": "code",
   "execution_count": 14,
   "id": "eb01088f",
   "metadata": {},
   "outputs": [
    {
     "data": {
      "text/plain": [
       "int"
      ]
     },
     "execution_count": 14,
     "metadata": {},
     "output_type": "execute_result"
    }
   ],
   "source": [
    "# We used int function to convert a string to an integer. Note - the string must contain numericals\n",
    "type(s1)"
   ]
  },
  {
   "cell_type": "markdown",
   "id": "b52cf760",
   "metadata": {},
   "source": [
    "### Q4. How do you write and execute a Python script from the command line?"
   ]
  },
  {
   "cell_type": "markdown",
   "id": "dfdf9217",
   "metadata": {},
   "source": [
    "- We normally use Text Editors or IDEs to execute codes for our comfort or requirements.\n",
    "- However we can also use command line to write and execute python scripts.\n",
    "- Here I am assuming we want to run .py files in the command line. To execute .ipynb files there is another procedure.\n",
    "\n",
    "To create a .py file, we have to use text editors like VS Code and save it in the extension '.py'.\n",
    "\n",
    "1. First open the command prompt or windows powershell.\n",
    "2. Locate to the directory where the .py file is saved using 'cd C:/home/...' command.\n",
    "3. Type 'python filename.py' command and replace filename with the name of your script.\n",
    "\n",
    "The code will be executed"
   ]
  },
  {
   "cell_type": "markdown",
   "id": "67861799",
   "metadata": {},
   "source": [
    "### Q5. Given a list my_list = [1, 2, 3, 4, 5], write the code to slice the list and obtain the sub-list [2, 3]."
   ]
  },
  {
   "cell_type": "code",
   "execution_count": 15,
   "id": "224b9e80",
   "metadata": {},
   "outputs": [
    {
     "data": {
      "text/plain": [
       "[2, 3]"
      ]
     },
     "execution_count": 15,
     "metadata": {},
     "output_type": "execute_result"
    }
   ],
   "source": [
    "my_list = [1,2,3,4,5]\n",
    "my_list[1:3]"
   ]
  },
  {
   "cell_type": "markdown",
   "id": "61686599",
   "metadata": {},
   "source": [
    "### Q6. What is a complex number in mathematics, and how is it represented in Python?"
   ]
  },
  {
   "cell_type": "markdown",
   "id": "0eb65ee4",
   "metadata": {},
   "source": [
    "- Complex numbers are the numbers which contain a real and an imaginary part.\n",
    "- For ex. (3+5i) Here 3 is the real part and 5i is the imaginary part.\n",
    "- In python complex numbers data type exist.\n",
    "- But the imaginary part that contains a letter must be only 'j'. Otherwise, it will throw error.\n",
    "- For ex. (3+5j)"
   ]
  },
  {
   "cell_type": "code",
   "execution_count": 16,
   "id": "1572a25f",
   "metadata": {},
   "outputs": [
    {
     "data": {
      "text/plain": [
       "complex"
      ]
     },
     "execution_count": 16,
     "metadata": {},
     "output_type": "execute_result"
    }
   ],
   "source": [
    "type(3+5j)"
   ]
  },
  {
   "cell_type": "markdown",
   "id": "116d1579",
   "metadata": {},
   "source": [
    "### Q7. What is the correct way to declare a variable named age and assign the value 25 to it?"
   ]
  },
  {
   "cell_type": "code",
   "execution_count": 17,
   "id": "07f3bfb4",
   "metadata": {},
   "outputs": [],
   "source": [
    "age = 25"
   ]
  },
  {
   "cell_type": "markdown",
   "id": "407dd373",
   "metadata": {},
   "source": [
    "### Q8. Declare a variable named price and assign the value 9.99 to it. What data type does this variable belong to?"
   ]
  },
  {
   "cell_type": "code",
   "execution_count": 18,
   "id": "a4454176",
   "metadata": {},
   "outputs": [
    {
     "data": {
      "text/plain": [
       "int"
      ]
     },
     "execution_count": 18,
     "metadata": {},
     "output_type": "execute_result"
    }
   ],
   "source": [
    "price = 99\n",
    "type(price)"
   ]
  },
  {
   "cell_type": "markdown",
   "id": "3730b8ef",
   "metadata": {},
   "source": [
    "This variable is of int (integer) data type."
   ]
  },
  {
   "cell_type": "markdown",
   "id": "693cabd7",
   "metadata": {},
   "source": [
    "### Q9. Create a variable named name and assign your full name to it as a string. How would you print the value of this variable?"
   ]
  },
  {
   "cell_type": "code",
   "execution_count": 19,
   "id": "13cdff4c",
   "metadata": {},
   "outputs": [
    {
     "name": "stdout",
     "output_type": "stream",
     "text": [
      "Ratan Sharma\n"
     ]
    }
   ],
   "source": [
    "name = \"Ratan Sharma\"\n",
    "print(name)"
   ]
  },
  {
   "cell_type": "markdown",
   "id": "5daa0289",
   "metadata": {},
   "source": [
    "### Q10. Given the string \"Hello, World!\", extract the substring \"World\"."
   ]
  },
  {
   "cell_type": "code",
   "execution_count": 21,
   "id": "c7401311",
   "metadata": {},
   "outputs": [
    {
     "data": {
      "text/plain": [
       "'World'"
      ]
     },
     "execution_count": 21,
     "metadata": {},
     "output_type": "execute_result"
    }
   ],
   "source": [
    "s2 = \"Hello, World!\"\n",
    "s2[7:-1]"
   ]
  },
  {
   "cell_type": "markdown",
   "id": "7955e61d",
   "metadata": {},
   "source": [
    "### Q11. Create a variable named \"is_student\" and assign it a boolean value indicating whether you are currently a student or not."
   ]
  },
  {
   "cell_type": "code",
   "execution_count": 25,
   "id": "94277b38",
   "metadata": {},
   "outputs": [],
   "source": [
    "is_student = True"
   ]
  }
 ],
 "metadata": {
  "kernelspec": {
   "display_name": "Python 3 (ipykernel)",
   "language": "python",
   "name": "python3"
  },
  "language_info": {
   "codemirror_mode": {
    "name": "ipython",
    "version": 3
   },
   "file_extension": ".py",
   "mimetype": "text/x-python",
   "name": "python",
   "nbconvert_exporter": "python",
   "pygments_lexer": "ipython3",
   "version": "3.11.3"
  }
 },
 "nbformat": 4,
 "nbformat_minor": 5
}
