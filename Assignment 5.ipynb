{
 "cells": [
  {
   "cell_type": "markdown",
   "id": "19a1f705",
   "metadata": {},
   "source": [
    "### Q1, Create a vehicle class with an init method having instance variables as name_of_vehicle, max_speed and average_of_vehicle."
   ]
  },
  {
   "cell_type": "code",
   "execution_count": 3,
   "id": "5bb2822c",
   "metadata": {},
   "outputs": [],
   "source": [
    "class Vehicle:\n",
    "    def __init__(self,name_of_vehicle,max_speed,average_of_vehicle):\n",
    "        self.name_of_vehicle = name_of_vehicle\n",
    "        self.max_speed = max_speed\n",
    "        self.average_of_vehicle = average_of_vehicle"
   ]
  },
  {
   "cell_type": "markdown",
   "id": "88ba37d8",
   "metadata": {},
   "source": [
    "### Q2. Create a child class car from the vehicle class created in Que 1, which will inherit the vehicle class. Create a method named seating_capacity which takes capacity as an argument and returns the name of the vehicle and its seating capacity."
   ]
  },
  {
   "cell_type": "code",
   "execution_count": 16,
   "id": "80816a62",
   "metadata": {},
   "outputs": [],
   "source": [
    "class Car(Vehicle):\n",
    "    def seating_capacity(self,capacity):\n",
    "        self.capacity = capacity\n",
    "        return self.name_of_vehicle, self.capacity"
   ]
  },
  {
   "cell_type": "code",
   "execution_count": 17,
   "id": "44adaeac",
   "metadata": {},
   "outputs": [],
   "source": [
    "c = Car(\"Suzuki\",500,300)"
   ]
  },
  {
   "cell_type": "code",
   "execution_count": 18,
   "id": "c20b8ebc",
   "metadata": {},
   "outputs": [
    {
     "data": {
      "text/plain": [
       "('Suzuki', 4)"
      ]
     },
     "execution_count": 18,
     "metadata": {},
     "output_type": "execute_result"
    }
   ],
   "source": [
    "c.seating_capacity(4)"
   ]
  },
  {
   "cell_type": "markdown",
   "id": "a058ba09",
   "metadata": {},
   "source": [
    "### Q3. What is multiple inheritance? Write a python code to demonstrate multiple inheritance."
   ]
  },
  {
   "cell_type": "markdown",
   "id": "cfb59f81",
   "metadata": {},
   "source": [
    "Multiple Inheritance means a child class which has more than one parent class."
   ]
  },
  {
   "cell_type": "code",
   "execution_count": 24,
   "id": "d58379cc",
   "metadata": {},
   "outputs": [],
   "source": [
    "class Mother:\n",
    "    def Mtraits(self):\n",
    "        print(\"Big eyes\")"
   ]
  },
  {
   "cell_type": "code",
   "execution_count": 25,
   "id": "f62c0fa7",
   "metadata": {},
   "outputs": [],
   "source": [
    "class Father:\n",
    "    def Ftraits(self):\n",
    "        print(\"Tall\")"
   ]
  },
  {
   "cell_type": "code",
   "execution_count": 26,
   "id": "7fa36ba0",
   "metadata": {},
   "outputs": [],
   "source": [
    "class Child(Mother,Father):\n",
    "    pass"
   ]
  },
  {
   "cell_type": "code",
   "execution_count": 27,
   "id": "905ea81d",
   "metadata": {},
   "outputs": [],
   "source": [
    "child_obj = Child()"
   ]
  },
  {
   "cell_type": "code",
   "execution_count": 29,
   "id": "365e814c",
   "metadata": {},
   "outputs": [
    {
     "name": "stdout",
     "output_type": "stream",
     "text": [
      "Big eyes\n"
     ]
    }
   ],
   "source": [
    "child_obj.Mtraits()"
   ]
  },
  {
   "cell_type": "code",
   "execution_count": 30,
   "id": "f4c11ea0",
   "metadata": {},
   "outputs": [
    {
     "name": "stdout",
     "output_type": "stream",
     "text": [
      "Tall\n"
     ]
    }
   ],
   "source": [
    "child_obj.Ftraits()"
   ]
  },
  {
   "cell_type": "code",
   "execution_count": 31,
   "id": "c38df057",
   "metadata": {},
   "outputs": [],
   "source": [
    "# An example of child inheriting their parent's physical trait is a real world example of multiple inheritance"
   ]
  },
  {
   "cell_type": "markdown",
   "id": "2e907e13",
   "metadata": {},
   "source": [
    "### Q4. What are getter and setter in python? Create a class and create a getter and a setter method in this class."
   ]
  },
  {
   "cell_type": "code",
   "execution_count": 1,
   "id": "597da370",
   "metadata": {},
   "outputs": [],
   "source": [
    "class Member:\n",
    "    \n",
    "    def __init__(self,member_name,member_email):\n",
    "        self.__member_name = member_name\n",
    "        self.member_email = member_email\n",
    "        \n",
    "    @property\n",
    "    def member_name_access(self):\n",
    "        return self.__member_name\n",
    "    \n",
    "    @member_name_access.getter\n",
    "    def get_member_name(self):\n",
    "        print(\"The name of the member is\",self.__member_name)\n",
    "        \n",
    "    @member_name_access.setter\n",
    "    def set_member_name(self,name):\n",
    "        self.__member_name = name"
   ]
  },
  {
   "cell_type": "code",
   "execution_count": 3,
   "id": "03938a8f",
   "metadata": {},
   "outputs": [],
   "source": [
    "rat = Member(\"Ratan\",\"rat@gmail.com\")"
   ]
  },
  {
   "cell_type": "code",
   "execution_count": 4,
   "id": "7b744d19",
   "metadata": {},
   "outputs": [
    {
     "name": "stdout",
     "output_type": "stream",
     "text": [
      "The name of the member is Ratan\n"
     ]
    }
   ],
   "source": [
    "rat.get_member_name"
   ]
  },
  {
   "cell_type": "code",
   "execution_count": 5,
   "id": "28001f3a",
   "metadata": {},
   "outputs": [],
   "source": [
    "rat.set_member_name = \"Ratan Sharma\""
   ]
  },
  {
   "cell_type": "code",
   "execution_count": 6,
   "id": "353c0e60",
   "metadata": {},
   "outputs": [
    {
     "name": "stdout",
     "output_type": "stream",
     "text": [
      "The name of the member is Ratan Sharma\n"
     ]
    }
   ],
   "source": [
    "rat.get_member_name"
   ]
  },
  {
   "cell_type": "markdown",
   "id": "816e5ce1",
   "metadata": {},
   "source": [
    "### Q5.What is method overriding in python? Write a python code to demonstrate method overriding."
   ]
  },
  {
   "cell_type": "markdown",
   "id": "5430c624",
   "metadata": {},
   "source": [
    "- Method overriding means a method in subclass which has the same name will be executed instead of the method in the parent class which shares the same name.\n",
    "- Method overriding is a concept in OOPS.\n",
    "- Method overriding is also an example of polymorphism.\n",
    "- In below example it can be seen the method in the subclass overriding the method in the parent class."
   ]
  },
  {
   "cell_type": "code",
   "execution_count": 7,
   "id": "e71700d1",
   "metadata": {},
   "outputs": [],
   "source": [
    "class Vehicle:\n",
    "    def display(self):\n",
    "        print(\"This is vehicle class\")\n",
    "        \n",
    "class Bike(Vehicle):\n",
    "    def display(self):\n",
    "        print(\"This is Bike subclass\")"
   ]
  },
  {
   "cell_type": "code",
   "execution_count": 8,
   "id": "6894fb48",
   "metadata": {},
   "outputs": [],
   "source": [
    "obj = Bike()"
   ]
  },
  {
   "cell_type": "code",
   "execution_count": 9,
   "id": "0bd98787",
   "metadata": {},
   "outputs": [
    {
     "name": "stdout",
     "output_type": "stream",
     "text": [
      "This is Bike subclass\n"
     ]
    }
   ],
   "source": [
    "obj.display()"
   ]
  }
 ],
 "metadata": {
  "kernelspec": {
   "display_name": "Python 3 (ipykernel)",
   "language": "python",
   "name": "python3"
  },
  "language_info": {
   "codemirror_mode": {
    "name": "ipython",
    "version": 3
   },
   "file_extension": ".py",
   "mimetype": "text/x-python",
   "name": "python",
   "nbconvert_exporter": "python",
   "pygments_lexer": "ipython3",
   "version": "3.11.3"
  }
 },
 "nbformat": 4,
 "nbformat_minor": 5
}
