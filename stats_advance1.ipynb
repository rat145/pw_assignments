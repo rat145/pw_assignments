{
  "nbformat": 4,
  "nbformat_minor": 0,
  "metadata": {
    "colab": {
      "provenance": [],
      "authorship_tag": "ABX9TyMIZEbNUdT08yCggllgRK4l",
      "include_colab_link": true
    },
    "kernelspec": {
      "name": "python3",
      "display_name": "Python 3"
    },
    "language_info": {
      "name": "python"
    }
  },
  "cells": [
    {
      "cell_type": "markdown",
      "metadata": {
        "id": "view-in-github",
        "colab_type": "text"
      },
      "source": [
        "<a href=\"https://colab.research.google.com/github/rat145/pw_assignments/blob/main/stats_advance1.ipynb\" target=\"_parent\"><img src=\"https://colab.research.google.com/assets/colab-badge.svg\" alt=\"Open In Colab\"/></a>"
      ]
    },
    {
      "cell_type": "markdown",
      "source": [
        "### Q1. What is the Probability density function?"
      ],
      "metadata": {
        "id": "rBYuPWVqXtLl"
      }
    },
    {
      "cell_type": "markdown",
      "source": [
        "The Probability Density Function (PDF) is a fundamental concept in probability and statistics. Here's a concise explanation in points:\n",
        "\n",
        "Definition: The Probability Density Function (PDF) is a mathematical function that describes the likelihood of a continuous random variable taking on a specific value within a given range.\n",
        "\n",
        "Continuous Random Variables: PDFs are used for continuous random variables, which can take an infinite number of possible values within a range (as opposed to discrete random variables, which have distinct, separate values).\n",
        "\n",
        "Integral: To find the probability of a random variable falling within a specific interval, you integrate the PDF over that interval. In other words, the area under the PDF curve within the interval represents the probability.\n",
        "\n",
        "Non-Negative: The PDF is always non-negative; it cannot be negative for any value within its range.\n",
        "\n",
        "Total Probability: The total area under the PDF curve over its entire range is equal to 1, indicating that the probability of the random variable taking any value within its possible range is 100%.\n",
        "\n",
        "Example: For a continuous random variable like the height of individuals, the PDF provides the probability distribution of heights, showing the likelihood of observing heights within different height ranges."
      ],
      "metadata": {
        "id": "pue2NUVIX3Gr"
      }
    },
    {
      "cell_type": "markdown",
      "source": [
        "### Q2. What are the types of Probability distribution?"
      ],
      "metadata": {
        "id": "HZoyvgH5YIyh"
      }
    },
    {
      "cell_type": "markdown",
      "source": [
        "There are 6 types of Probability distribution (as per syllabus):\n",
        "\n",
        "Normal/Gaussian Distribution: Bell-shaped, symmetric, and commonly seen in natural phenomena.\n",
        "\n",
        "Bernoulli Distribution: Models a binary outcome (success/failure) in a single trial or experiment.\n",
        "\n",
        "Uniform Distribution: All values within a range are equally likely.\n",
        "\n",
        "Poisson Distribution: Models the number of rare events occurring within a fixed interval of time or space.\n",
        "\n",
        "Log-Normal Distribution: Results from exponentiating a normally distributed random variable, often used for modeling positively skewed data.\n",
        "\n",
        "Binomial Distribution: Models the number of successes in a fixed number of independent Bernoulli trials."
      ],
      "metadata": {
        "id": "x8_yXryYX-sG"
      }
    },
    {
      "cell_type": "markdown",
      "source": [
        "### Q3. Write a Python function to calculate the probability density function of a normal distribution with given mean and standard deviation at a given point."
      ],
      "metadata": {
        "id": "AfMpz59gYSbQ"
      }
    },
    {
      "cell_type": "code",
      "source": [
        "from math import sqrt, pi, e, exp\n",
        "\n",
        "def calculate_pdf(x,mu,sigma):\n",
        "  coefficient = 1 / (sigma * sqrt(2 * pi))\n",
        "  exponent = -((x - mu) ** 2) / (2 * sigma ** 2)\n",
        "  pdf = coefficient * exp(exponent)\n",
        "  return pdf"
      ],
      "metadata": {
        "id": "sGcgz9gCYbWP"
      },
      "execution_count": 7,
      "outputs": []
    },
    {
      "cell_type": "code",
      "source": [
        "data_point = float(input(\"Enter data point: \"))\n",
        "mean = float(input(\"Enter mean: \"))\n",
        "std = float(input(\"Enter standard deviation: \"))\n",
        "\n",
        "print(calculate_pdf(data_point,mean,std))"
      ],
      "metadata": {
        "colab": {
          "base_uri": "https://localhost:8080/"
        },
        "id": "p_JT0Z0Eapb_",
        "outputId": "08fb2275-9366-4b44-9d39-2cc936c33eaa"
      },
      "execution_count": 8,
      "outputs": [
        {
          "output_type": "stream",
          "name": "stdout",
          "text": [
            "Enter data point: 7\n",
            "Enter mean: 5\n",
            "Enter standard deviation: 2\n",
            "0.12098536225957168\n"
          ]
        }
      ]
    },
    {
      "cell_type": "markdown",
      "source": [
        "### Q4. What are the properties of Binomial distribution? Give two examples of events where binomial distribution can be applied."
      ],
      "metadata": {
        "id": "IDVZxoAodrZu"
      }
    },
    {
      "cell_type": "markdown",
      "source": [
        "- Binomial distribution is a discrete probability distribution.\n",
        "- Every experiment outcome is binary.\n",
        "- These experiments are performed for n trials.\n",
        "- e.g Tossing a coin 10 times.\n",
        "- PMF:\n",
        "P(X,n,p) = ^nCx p^x (1 - p)^n-x\n",
        "- Mean = np\n",
        "- Variance = npq\n",
        "- Standard deviation = sqrt(npq)"
      ],
      "metadata": {
        "id": "0eve71IAhqLc"
      }
    },
    {
      "cell_type": "markdown",
      "source": [
        "### Q5. Generate a random sample of size 1000 from a binomial distribution with probability of success 0.4 and plot a histogram of the results using matplotlib."
      ],
      "metadata": {
        "id": "V-UaqPE7icHM"
      }
    },
    {
      "cell_type": "code",
      "source": [
        "import numpy as np\n",
        "import matplotlib.pyplot as plt"
      ],
      "metadata": {
        "id": "naCQuLoXidbD"
      },
      "execution_count": 9,
      "outputs": []
    },
    {
      "cell_type": "code",
      "source": [
        "n = 10\n",
        "p = 0.4\n",
        "\n",
        "random_sample = np.random.binomial(n,p,1000)"
      ],
      "metadata": {
        "id": "XZusDkLajIKo"
      },
      "execution_count": 10,
      "outputs": []
    },
    {
      "cell_type": "code",
      "source": [
        "plt.hist(random_sample, bins = range(0, n+2), align = \"left\", rwidth = 0.8, density = True)\n",
        "plt.title(\"Binomial Distribution (n = 10, p = 0.4)\")\n",
        "plt.xlabel(\"Number of successes\")\n",
        "plt.ylabel(\"Probability\")\n",
        "plt.xticks(range(0, n+1))\n",
        "plt.grid(axis = \"y\", linestyle = '--', alpha = 0.7)\n",
        "plt.show()"
      ],
      "metadata": {
        "colab": {
          "base_uri": "https://localhost:8080/",
          "height": 472
        },
        "id": "7ugf-z7cjX09",
        "outputId": "49448a5f-67e7-463e-cf6a-79e37dfbfbdd"
      },
      "execution_count": 12,
      "outputs": [
        {
          "output_type": "display_data",
          "data": {
            "text/plain": [
              "<Figure size 640x480 with 1 Axes>"
            ],
            "image/png": "[encoded data removed]"
          },
          "metadata": {}
        }
      ]
    },
    {
      "cell_type": "markdown",
      "source": [
        "### Q6. Write a Python function to calculate the cumulative distribution function of a Poisson distribution with given mean at a given point."
      ],
      "metadata": {
        "id": "EgIShcY6kbgq"
      }
    },
    {
      "cell_type": "code",
      "source": [
        "import math\n",
        "\n",
        "def poisson_cdf(k, mean):\n",
        "    cdf = 0.0\n",
        "    for i in range(k + 1):\n",
        "        cdf += (math.exp(-mean) * mean**i) / math.factorial(i)\n",
        "    return cdf"
      ],
      "metadata": {
        "id": "5jDuDYCYlJbv"
      },
      "execution_count": 13,
      "outputs": []
    },
    {
      "cell_type": "code",
      "source": [
        "mean = 3.0\n",
        "k = 2\n",
        "cdf_value = poisson_cdf(k, mean)\n",
        "print(f\"CDF value is {cdf_value}\")"
      ],
      "metadata": {
        "colab": {
          "base_uri": "https://localhost:8080/"
        },
        "id": "vapd5FDTlRjT",
        "outputId": "b33e9e7a-0023-4961-fb55-3a1c605026f4"
      },
      "execution_count": 14,
      "outputs": [
        {
          "output_type": "stream",
          "name": "stdout",
          "text": [
            "CDF value is 0.42319008112684353\n"
          ]
        }
      ]
    },
    {
      "cell_type": "markdown",
      "source": [
        "### Q7. How Binomial distribution different from Poisson distribution?"
      ],
      "metadata": {
        "id": "glKU4nnEl1bG"
      }
    },
    {
      "cell_type": "markdown",
      "source": [
        "The Binomial distribution and the Poisson distribution are both probability distributions used to model discrete random variables, but they differ in several key ways:\n",
        "\n",
        "Number of Trials:\n",
        "\n",
        "Binomial Distribution: The Binomial distribution is used to model the number of successes in a fixed number of independent and identical Bernoulli trials (experiments with two possible outcomes, usually success and failure). It is applicable when you know the number of trials in advance.\n",
        "Poisson Distribution: The Poisson distribution models the number of rare events occurring in a fixed interval of time or space. It is used when the number of trials or opportunities for an event to occur is large, but the probability of success in each trial is small.\n",
        "Parameterization:\n",
        "\n",
        "Binomial Distribution: It is characterized by two parameters: the number of trials (n) and the probability of success in a single trial (p).\n",
        "Poisson Distribution: It is characterized by a single parameter: the average rate (λ) at which events occur over the fixed interval.\n",
        "Nature of Events:\n",
        "\n",
        "Binomial Distribution: It is used for events that have two possible outcomes (success or failure) in each trial, such as coin flips, pass/fail tests, or yes/no questions.\n",
        "Poisson Distribution: It is used for events that are rare and random, typically representing counts of events that occur over a fixed period, such as the number of phone calls received at a call center in an hour.\n",
        "Shape of Distribution:\n",
        "\n",
        "Binomial Distribution: It is typically symmetric (bell-shaped) when the number of trials (n) is large, and the probability of success (p) is not extremely close to 0 or 1.\n",
        "Poisson Distribution: It is often right-skewed (positively skewed) and becomes more symmetric as the rate parameter (λ) increases.\n",
        "Memorylessness:\n",
        "\n",
        "Binomial Distribution: It does not exhibit memorylessness, meaning the outcome of one trial can affect subsequent trials.\n",
        "Poisson Distribution: It exhibits memorylessness, meaning that the probability of an event occurring in the future is independent of when past events occurred.\n",
        "In summary, the Binomial distribution is used when you have a fixed number of trials with two possible outcomes and need to calculate the probability of a specific number of successes. The Poisson distribution is used when you are dealing with rare and random events occurring in a fixed interval and want to model the number of events within that interval."
      ],
      "metadata": {
        "id": "_SERhsXrl6Yj"
      }
    },
    {
      "cell_type": "markdown",
      "source": [
        "### Q8. Generate a random sample of size 1000 from a Poisson distribution with mean 5 and calculate the sample mean and variance."
      ],
      "metadata": {
        "id": "t9UVokBwmIyj"
      }
    },
    {
      "cell_type": "code",
      "source": [
        "mean = 5\n",
        "random_sample1 = np.random.poisson(mean, 1000)\n",
        "sample_mean = np.mean(random_sample1)\n",
        "print(f\"Sample mean is {sample_mean}\")\n",
        "sample_variance = np.var(random_sample1)\n",
        "print(f\"Sample variance is {sample_variance}\")"
      ],
      "metadata": {
        "colab": {
          "base_uri": "https://localhost:8080/"
        },
        "id": "Xowd_Z-smLid",
        "outputId": "afe2ec95-5d1b-43c4-d3ac-175a2a5decf1"
      },
      "execution_count": 17,
      "outputs": [
        {
          "output_type": "stream",
          "name": "stdout",
          "text": [
            "Sample mean is 4.84\n",
            "Sample variance is 4.836399999999999\n"
          ]
        }
      ]
    },
    {
      "cell_type": "markdown",
      "source": [
        "### Q9. How mean and variance are related in Binomial distribution and Poisson distribution?"
      ],
      "metadata": {
        "id": "GEwBeR-4nQYC"
      }
    },
    {
      "cell_type": "markdown",
      "source": [
        "The relationship between mean (μ) and variance (σ²) in the Binomial distribution and the Poisson distribution is as follows:\n",
        "\n",
        "**Binomial Distribution**:\n",
        "In a Binomial distribution with parameters n (number of trials) and p (probability of success in a single trial):\n",
        "\n",
        "1. **Mean (μ)**: The mean of the Binomial distribution is given by μ = np.\n",
        "2. **Variance (σ²)**: The variance of the Binomial distribution is given by σ² = np(1-p).\n",
        "\n",
        "In the Binomial distribution, the variance increases as the probability of success (p) moves away from 0.5 (when the distribution is symmetric). When p is close to 0 or 1, the distribution becomes more skewed, and the variance becomes larger.\n",
        "\n",
        "**Poisson Distribution**:\n",
        "In a Poisson distribution with parameter λ (average rate or mean number of events in a fixed interval):\n",
        "\n",
        "1. **Mean (μ)**: The mean of the Poisson distribution is given by μ = λ.\n",
        "2. **Variance (σ²)**: The variance of the Poisson distribution is also given by σ² = λ.\n",
        "\n",
        "In the Poisson distribution, the variance is equal to the mean (λ). This is a key characteristic of the Poisson distribution and is known as equidispersion. It means that in a Poisson distribution, the spread or variability of the data is directly related to the mean. When the mean is larger, the variance is larger, indicating greater variability.\n",
        "\n",
        "In summary, for a Binomial distribution, the variance depends on both the number of trials (n) and the probability of success (p), while for a Poisson distribution, the variance is solely determined by the average rate (λ) and is equal to the mean. The Poisson distribution is characterized by equidispersion, which is not the case for the Binomial distribution."
      ],
      "metadata": {
        "id": "6EXz3QANnSai"
      }
    },
    {
      "cell_type": "markdown",
      "source": [
        "### Q10. In normal distribution with respect to mean position, where does the least frequent data appear?"
      ],
      "metadata": {
        "id": "BIMhR8CNndWE"
      }
    },
    {
      "cell_type": "markdown",
      "source": [
        "In a normal distribution, which is a symmetric probability distribution, the least frequent data points appear in the tails of the distribution, farthest from the mean. Specifically:\n",
        "\n",
        "1. **Left Tail (Negative Side)**: The data points in the left tail, which are smaller than the mean, represent values that are less frequent. These values are often referred to as \"lower outliers\" or \"left-skewed\" values.\n",
        "\n",
        "2. **Right Tail (Positive Side)**: Similarly, the data points in the right tail, which are larger than the mean, also represent values that are less frequent. These values are often referred to as \"upper outliers\" or \"right-skewed\" values.\n",
        "\n",
        "The majority of data points, representing the most frequent values, are concentrated around the mean, and the frequency decreases as you move away from the mean in either direction. This is a fundamental characteristic of the normal distribution and is often referred to as the \"bell curve\" due to its symmetric, bell-shaped appearance."
      ],
      "metadata": {
        "id": "R3Do3dovnmaW"
      }
    }
  ]
}