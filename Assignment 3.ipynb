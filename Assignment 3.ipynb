{
 "cells": [
  {
   "cell_type": "markdown",
   "id": "a2a3ad27",
   "metadata": {},
   "source": [
    "### Q1. Which keyword is used to create a function? Create a function to return a list of odd numbers in the range of 1 to 25."
   ]
  },
  {
   "cell_type": "markdown",
   "id": "31f09d26",
   "metadata": {},
   "source": [
    "- The keyword \"def\" followed by the function name is used to create a function.\n",
    "- We can pass arguments inside the parenthesis () which is after the function name."
   ]
  },
  {
   "cell_type": "code",
   "execution_count": 1,
   "id": "af69c70a",
   "metadata": {},
   "outputs": [],
   "source": [
    "def odd_numbers():\n",
    "    for i in range(1,26):\n",
    "        if i%2!=0:\n",
    "            print(i)"
   ]
  },
  {
   "cell_type": "code",
   "execution_count": 2,
   "id": "fe0e2c55",
   "metadata": {},
   "outputs": [
    {
     "name": "stdout",
     "output_type": "stream",
     "text": [
      "1\n",
      "3\n",
      "5\n",
      "7\n",
      "9\n",
      "11\n",
      "13\n",
      "15\n",
      "17\n",
      "19\n",
      "21\n",
      "23\n",
      "25\n"
     ]
    }
   ],
   "source": [
    "odd_numbers()"
   ]
  },
  {
   "cell_type": "markdown",
   "id": "b232ec15",
   "metadata": {},
   "source": [
    "### Q2. Why *args and **kwargs is used in some functions? Create a function each for *args and **kwargs to demonstrate their use."
   ]
  },
  {
   "cell_type": "markdown",
   "id": "ac7f19ad",
   "metadata": {},
   "source": [
    "- *args and **kwargs are used in functions as parameters.\n",
    "- *args means the function can take unlimited amount of input as arguments.\n",
    "- **kwargs means the function can take unlimited amount of key value inputs as arguments."
   ]
  },
  {
   "cell_type": "code",
   "execution_count": 6,
   "id": "e4f5a1ef",
   "metadata": {},
   "outputs": [],
   "source": [
    "def addition(*num):\n",
    "    s = 0\n",
    "    for i in num:\n",
    "        s += i\n",
    "    return s"
   ]
  },
  {
   "cell_type": "code",
   "execution_count": 7,
   "id": "cf643d0c",
   "metadata": {},
   "outputs": [
    {
     "data": {
      "text/plain": [
       "10"
      ]
     },
     "execution_count": 7,
     "metadata": {},
     "output_type": "execute_result"
    }
   ],
   "source": [
    "addition(1,2,3,4)"
   ]
  },
  {
   "cell_type": "code",
   "execution_count": 13,
   "id": "6e8b8dbf",
   "metadata": {},
   "outputs": [],
   "source": [
    "def my_dictionary(**dict1):\n",
    "    return dict1"
   ]
  },
  {
   "cell_type": "code",
   "execution_count": 14,
   "id": "000436af",
   "metadata": {},
   "outputs": [
    {
     "data": {
      "text/plain": [
       "{'a': 12, 'b': 'rat'}"
      ]
     },
     "execution_count": 14,
     "metadata": {},
     "output_type": "execute_result"
    }
   ],
   "source": [
    "my_dictionary(a = 12, b = \"rat\")"
   ]
  },
  {
   "cell_type": "markdown",
   "id": "efa37cf7",
   "metadata": {},
   "source": [
    "### Q3. What is an iterator in python? Name the method used to initialise the iterator object and the method used for iteration. Use these methods to print the first five elements of the given list [2, 4, 6, 8, 10, 12, 14,16, 18, 20]."
   ]
  },
  {
   "cell_type": "markdown",
   "id": "0128cd69",
   "metadata": {},
   "source": [
    "- An iterator is nothing but a variable which accesses the data one by one in an iterable object such as list, string, etc.\n",
    "- The method used to initialise the iterator is the \"iter()\" function.\n",
    "- The method used for iteration i.e. to travel through the data is \"next()\" function."
   ]
  },
  {
   "cell_type": "code",
   "execution_count": 15,
   "id": "b7dae8fb",
   "metadata": {},
   "outputs": [],
   "source": [
    "l = [2,4,6,8,10,12,14,16,18,20]"
   ]
  },
  {
   "cell_type": "code",
   "execution_count": 27,
   "id": "4edd57e6",
   "metadata": {},
   "outputs": [
    {
     "data": {
      "text/plain": [
       "list_iterator"
      ]
     },
     "execution_count": 27,
     "metadata": {},
     "output_type": "execute_result"
    }
   ],
   "source": [
    "l1 = iter(l)\n",
    "type(l1)"
   ]
  },
  {
   "cell_type": "code",
   "execution_count": 28,
   "id": "59af033f",
   "metadata": {},
   "outputs": [
    {
     "name": "stdout",
     "output_type": "stream",
     "text": [
      "2\n",
      "4\n",
      "6\n",
      "8\n",
      "10\n"
     ]
    }
   ],
   "source": [
    "for i in range(5):\n",
    "    print(next(l1))"
   ]
  },
  {
   "cell_type": "markdown",
   "id": "d97e8b48",
   "metadata": {},
   "source": [
    "### Q4. What is a generator function in python? Why yield keyword is used? Give an example of a generator function."
   ]
  },
  {
   "cell_type": "markdown",
   "id": "ddccbc51",
   "metadata": {},
   "source": [
    "- A generator function in python which yields values and not just returns value once. It is iterable.\n",
    "- \"yield\" keyword is used in order to return a value, but not exactly same as return keyword."
   ]
  },
  {
   "cell_type": "code",
   "execution_count": 29,
   "id": "6c56072e",
   "metadata": {},
   "outputs": [],
   "source": [
    "def even_nos(n):\n",
    "    for i in range(n+1):\n",
    "        if i%2==0:\n",
    "            yield i"
   ]
  },
  {
   "cell_type": "code",
   "execution_count": 35,
   "id": "c8eedd6c",
   "metadata": {},
   "outputs": [
    {
     "data": {
      "text/plain": [
       "generator"
      ]
     },
     "execution_count": 35,
     "metadata": {},
     "output_type": "execute_result"
    }
   ],
   "source": [
    "type(even_nos(10))"
   ]
  },
  {
   "cell_type": "code",
   "execution_count": 37,
   "id": "e22a7a27",
   "metadata": {},
   "outputs": [],
   "source": [
    "e = even_nos(10)"
   ]
  },
  {
   "cell_type": "code",
   "execution_count": 38,
   "id": "7f59babe",
   "metadata": {},
   "outputs": [
    {
     "name": "stdout",
     "output_type": "stream",
     "text": [
      "0\n",
      "2\n",
      "4\n",
      "6\n",
      "8\n",
      "10\n"
     ]
    }
   ],
   "source": [
    "for i in e:\n",
    "    print(i)"
   ]
  },
  {
   "cell_type": "markdown",
   "id": "d0bcc6f9",
   "metadata": {},
   "source": [
    "### Q5. Create a generator function for prime numbers less than 1000. Use the next() method to print the first 20 prime numbers."
   ]
  },
  {
   "cell_type": "code",
   "execution_count": 5,
   "id": "eac4bbdd",
   "metadata": {},
   "outputs": [],
   "source": [
    "def check_prime(n):\n",
    "    if n<2:\n",
    "        return False\n",
    "    for i in range(2,int(n ** 0.5)+1):\n",
    "        if n%i == 0:\n",
    "            return False\n",
    "    return True\n",
    "\n",
    "def prime_nos():\n",
    "    for i in range(1, 1001):\n",
    "        if check_prime(i):\n",
    "            yield i"
   ]
  },
  {
   "cell_type": "code",
   "execution_count": 6,
   "id": "2619df32",
   "metadata": {},
   "outputs": [],
   "source": [
    "p = prime_nos()"
   ]
  },
  {
   "cell_type": "code",
   "execution_count": 7,
   "id": "fd60e23a",
   "metadata": {},
   "outputs": [
    {
     "data": {
      "text/plain": [
       "generator"
      ]
     },
     "execution_count": 7,
     "metadata": {},
     "output_type": "execute_result"
    }
   ],
   "source": [
    "type(p)"
   ]
  },
  {
   "cell_type": "code",
   "execution_count": 8,
   "id": "e7d57ca2",
   "metadata": {},
   "outputs": [
    {
     "name": "stdout",
     "output_type": "stream",
     "text": [
      "2\n",
      "3\n",
      "5\n",
      "7\n",
      "11\n",
      "13\n",
      "17\n",
      "19\n",
      "23\n",
      "29\n",
      "31\n",
      "37\n",
      "41\n",
      "43\n",
      "47\n",
      "53\n",
      "59\n",
      "61\n",
      "67\n",
      "71\n"
     ]
    }
   ],
   "source": [
    "for i in range(20):\n",
    "    print(next(p))"
   ]
  },
  {
   "cell_type": "markdown",
   "id": "daa47825",
   "metadata": {},
   "source": [
    "### Q6. Write a python program to print the first 10 Fibonacci numbers using a while loop."
   ]
  },
  {
   "cell_type": "code",
   "execution_count": 13,
   "id": "4aa3be7f",
   "metadata": {},
   "outputs": [
    {
     "name": "stdout",
     "output_type": "stream",
     "text": [
      "0\n",
      "1\n",
      "1\n",
      "2\n",
      "3\n",
      "5\n",
      "8\n",
      "13\n",
      "21\n",
      "34\n"
     ]
    }
   ],
   "source": [
    "a = 0\n",
    "b = 1\n",
    "print(a)\n",
    "print(b)\n",
    "n = 2\n",
    "while n!=10:\n",
    "    c = a+b\n",
    "    print(c)\n",
    "    a = b\n",
    "    b = c\n",
    "    n += 1"
   ]
  },
  {
   "cell_type": "markdown",
   "id": "3ed135b0",
   "metadata": {},
   "source": [
    "### Q7. Write a List Comprehension to iterate through the given string: ‘pwskills’. Expected output: ['p', 'w', 's', 'k', 'i', 'l', 'l', 's']"
   ]
  },
  {
   "cell_type": "code",
   "execution_count": 15,
   "id": "6fcc83a5",
   "metadata": {},
   "outputs": [
    {
     "name": "stdout",
     "output_type": "stream",
     "text": [
      "['p', 'w', 's', 'k', 'i', 'l', 'l', 's']\n"
     ]
    }
   ],
   "source": [
    "s = \"pwskills\"\n",
    "\n",
    "l = [i for i in s]\n",
    "print(l)"
   ]
  },
  {
   "cell_type": "markdown",
   "id": "57d30842",
   "metadata": {},
   "source": [
    "### Q8. Write a python program to check whether a given number is Palindrome or not using a while loop."
   ]
  },
  {
   "cell_type": "code",
   "execution_count": 24,
   "id": "ee0d627a",
   "metadata": {},
   "outputs": [
    {
     "name": "stdout",
     "output_type": "stream",
     "text": [
      "\n",
      "Enter a number: 121\n",
      "\n",
      "\n",
      "Original number: 121\n",
      "\n",
      "Reversed number:  121\n",
      "\n",
      "\n",
      "It is a palindrome number\n"
     ]
    }
   ],
   "source": [
    "n = int(input(\"\\nEnter a number: \"))\n",
    "z = n\n",
    "rev = 0\n",
    "\n",
    "while n!=0:\n",
    "    d = int(n%10)        \n",
    "    rev = rev*10+d       \n",
    "    n = int(n/10)             \n",
    "\n",
    "print(\"\\n\\nOriginal number:\",z)\n",
    "print(\"\\nReversed number: \",rev)\n",
    "\n",
    "if z==rev:\n",
    "    print(\"\\n\\nIt is a palindrome number\")\n",
    "else:\n",
    "    print(\"\\n\\nIt is not a palindrome number\")"
   ]
  },
  {
   "cell_type": "markdown",
   "id": "df0c7be5",
   "metadata": {},
   "source": [
    "### Q9. Write a code to print odd numbers from 1 to 100 using list comprehension."
   ]
  },
  {
   "cell_type": "code",
   "execution_count": 30,
   "id": "c99cf7b4",
   "metadata": {},
   "outputs": [
    {
     "name": "stdout",
     "output_type": "stream",
     "text": [
      "[1, 3, 5, 7, 9, 11, 13, 15, 17, 19, 21, 23, 25, 27, 29, 31, 33, 35, 37, 39, 41, 43, 45, 47, 49, 51, 53, 55, 57, 59, 61, 63, 65, 67, 69, 71, 73, 75, 77, 79, 81, 83, 85, 87, 89, 91, 93, 95, 97, 99]\n"
     ]
    }
   ],
   "source": [
    "l = [i for i in range(1,101) if i%2!=0]\n",
    "print(l)"
   ]
  }
 ],
 "metadata": {
  "kernelspec": {
   "display_name": "Python 3 (ipykernel)",
   "language": "python",
   "name": "python3"
  },
  "language_info": {
   "codemirror_mode": {
    "name": "ipython",
    "version": 3
   },
   "file_extension": ".py",
   "mimetype": "text/x-python",
   "name": "python",
   "nbconvert_exporter": "python",
   "pygments_lexer": "ipython3",
   "version": "3.11.3"
  }
 },
 "nbformat": 4,
 "nbformat_minor": 5
}
