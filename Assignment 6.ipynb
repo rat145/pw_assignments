{
 "cells": [
  {
   "cell_type": "markdown",
   "id": "7109968c",
   "metadata": {},
   "source": [
    "### Q1. Explain Class and Object with respect to Object-Oriented Programming. Give a suitable example."
   ]
  },
  {
   "cell_type": "markdown",
   "id": "bc391024",
   "metadata": {},
   "source": [
    "- The term Object-Oriented Programming means programming in the format of classes and objects.\n",
    "- Classes are nothing but like a blueprint, which contains variables and methods.\n",
    "- They are defined using the 'class' keyword followed by class name.\n",
    "- Objects are those variables which contain the class data.\n",
    "- We usually create an object of a class to use and access its functions and data."
   ]
  },
  {
   "cell_type": "code",
   "execution_count": 4,
   "id": "61d5011f",
   "metadata": {},
   "outputs": [],
   "source": [
    "class test_class:\n",
    "    \n",
    "    msg = \"Hello world\"\n",
    "    \n",
    "    def display_msg(self):\n",
    "        print(self.msg)"
   ]
  },
  {
   "cell_type": "code",
   "execution_count": 5,
   "id": "c300d9d9",
   "metadata": {},
   "outputs": [],
   "source": [
    "obj = test_class()"
   ]
  },
  {
   "cell_type": "code",
   "execution_count": 6,
   "id": "e1eaeec1",
   "metadata": {},
   "outputs": [
    {
     "name": "stdout",
     "output_type": "stream",
     "text": [
      "Hello world\n"
     ]
    }
   ],
   "source": [
    "obj.display_msg()"
   ]
  },
  {
   "cell_type": "markdown",
   "id": "94a11319",
   "metadata": {},
   "source": [
    "### Q2. Name the four pillars of OOPs."
   ]
  },
  {
   "cell_type": "markdown",
   "id": "5ddcee8c",
   "metadata": {},
   "source": [
    "The four pillars in OOPs are:\n",
    "1. Polymorphism: Using same names for different methods.\n",
    "2. Encapsulation: Hiding direct access to data (by using private variables) and giving controlled access using methods.\n",
    "3. Inheritance: When a class inherits all the data of a different class.\n",
    "4. Abstraction: A class is designed such that its method can be used in its subclasses to be defined. It is like a predefined structure which should be followed."
   ]
  },
  {
   "cell_type": "markdown",
   "id": "8db3d0cd",
   "metadata": {},
   "source": [
    "### Q3. Explain why the __init__() function is used. Give a suitable example."
   ]
  },
  {
   "cell_type": "markdown",
   "id": "408359ce",
   "metadata": {},
   "source": [
    "- The __init__() function is used in a class as it is a constructor which is used to pass values using the class name.\n",
    "- It stands for initialization.\n",
    "- We initialize the values which are to be used in the class using __init__() function.\n",
    "- Below example demonstrates the use of __init__() function."
   ]
  },
  {
   "cell_type": "code",
   "execution_count": 7,
   "id": "870c0772",
   "metadata": {},
   "outputs": [],
   "source": [
    "class MyClass:\n",
    "    def __init__(self,name,age):\n",
    "        self.name = name\n",
    "        self.age = age\n",
    "    def display_details(self):\n",
    "        print(self.name,\"\\n\",self.age)"
   ]
  },
  {
   "cell_type": "code",
   "execution_count": 8,
   "id": "4623eec5",
   "metadata": {},
   "outputs": [],
   "source": [
    "obj1 = MyClass(\"Ratan\",19)"
   ]
  },
  {
   "cell_type": "code",
   "execution_count": 10,
   "id": "915fc308",
   "metadata": {},
   "outputs": [
    {
     "name": "stdout",
     "output_type": "stream",
     "text": [
      "Ratan \n",
      " 19\n"
     ]
    }
   ],
   "source": [
    "obj1.display_details()"
   ]
  },
  {
   "cell_type": "markdown",
   "id": "07515ffc",
   "metadata": {},
   "source": [
    "### Q4. Why self is used in OOPs?"
   ]
  },
  {
   "cell_type": "markdown",
   "id": "e074f7d3",
   "metadata": {},
   "source": [
    "- self is a variable name which we use in functions of the classes.\n",
    "- self is not a reserved keyword, however it is most often used.\n",
    "- It has to be used as a first argument in every method.\n",
    "- It is used a reference to the instances of the current object.\n",
    "- It helps to ensure data is specific to their instances.\n",
    "- Also helps to dinstinct class member data with instances-specific data."
   ]
  },
  {
   "cell_type": "markdown",
   "id": "6a5e97ac",
   "metadata": {},
   "source": [
    "### Q5. What is inheritance? Give an example for each type of inheritance."
   ]
  },
  {
   "cell_type": "markdown",
   "id": "6cf0a823",
   "metadata": {},
   "source": [
    "- Inheritance is a fundamental concept of OOPS.\n",
    "- In inheritance, a class can inherit the data and methods of another class.\n",
    "- It promotes reusability and extensibility.\n",
    "- There are 3 types of inheritance in python - single inheritance, multi-level inheritance and multiple inheritance."
   ]
  },
  {
   "cell_type": "code",
   "execution_count": 11,
   "id": "18d9d130",
   "metadata": {},
   "outputs": [],
   "source": [
    "# Single Inheritance\n",
    "\n",
    "class class1:\n",
    "    def display1(self):\n",
    "        print(\"inside class 1\")\n",
    "        \n",
    "class class2(class1):\n",
    "    def display2(self):\n",
    "        print(\"inside class 2\")"
   ]
  },
  {
   "cell_type": "code",
   "execution_count": 12,
   "id": "dc605dad",
   "metadata": {},
   "outputs": [],
   "source": [
    "obj2 = class2()"
   ]
  },
  {
   "cell_type": "code",
   "execution_count": 13,
   "id": "5cc6c59d",
   "metadata": {},
   "outputs": [
    {
     "name": "stdout",
     "output_type": "stream",
     "text": [
      "inside class 2\n"
     ]
    }
   ],
   "source": [
    "obj2.display2()"
   ]
  },
  {
   "cell_type": "code",
   "execution_count": 14,
   "id": "8ccc059f",
   "metadata": {},
   "outputs": [
    {
     "name": "stdout",
     "output_type": "stream",
     "text": [
      "inside class 1\n"
     ]
    }
   ],
   "source": [
    "obj2.display1()"
   ]
  },
  {
   "cell_type": "code",
   "execution_count": 15,
   "id": "470936aa",
   "metadata": {},
   "outputs": [],
   "source": [
    "# Multi-level Inheritance\n",
    "\n",
    "class ClassOne:\n",
    "    def display1(self):\n",
    "        print(\"inside first class\")\n",
    "    \n",
    "class ClassTwo(ClassOne):\n",
    "    def display2(self):\n",
    "        print(\"inside second class\")\n",
    "        \n",
    "class ClassThree(ClassTwo):\n",
    "    def display3(self):\n",
    "        print(\"inside third class\")"
   ]
  },
  {
   "cell_type": "code",
   "execution_count": 16,
   "id": "2e3aa4ed",
   "metadata": {},
   "outputs": [],
   "source": [
    "obj3 = ClassThree()"
   ]
  },
  {
   "cell_type": "code",
   "execution_count": 19,
   "id": "1c5a650b",
   "metadata": {},
   "outputs": [
    {
     "name": "stdout",
     "output_type": "stream",
     "text": [
      "inside first class\n"
     ]
    }
   ],
   "source": [
    "obj3.display1()"
   ]
  },
  {
   "cell_type": "code",
   "execution_count": 20,
   "id": "88b91fed",
   "metadata": {},
   "outputs": [
    {
     "name": "stdout",
     "output_type": "stream",
     "text": [
      "inside second class\n"
     ]
    }
   ],
   "source": [
    "obj3.display2()"
   ]
  },
  {
   "cell_type": "code",
   "execution_count": 21,
   "id": "41dbbc98",
   "metadata": {},
   "outputs": [
    {
     "name": "stdout",
     "output_type": "stream",
     "text": [
      "inside third class\n"
     ]
    }
   ],
   "source": [
    "obj3.display3()"
   ]
  },
  {
   "cell_type": "code",
   "execution_count": 36,
   "id": "48e3c450",
   "metadata": {},
   "outputs": [],
   "source": [
    "# Multiple Inhertiance\n",
    "\n",
    "class Staff:\n",
    "    \n",
    "    def getStaffData(self,name,responsibility):\n",
    "        self.name = name\n",
    "        self.responsibility = responsibility\n",
    "        \n",
    "    def putStaffData(self):\n",
    "        print(\"\\n===== Staff Details =====\\n\")\n",
    "        print(\"Name:\",self.name)\n",
    "        print(\"Responsibility:\",self.responsibility)\n",
    "        \n",
    "        \n",
    "class Teaching(Staff):\n",
    "    \n",
    "    def getTeachingData(self,t_id,subject):\n",
    "        self.t_id = t_id\n",
    "        self.subject = subject\n",
    "        \n",
    "    def putTeachingData(self):\n",
    "        print(\"\\n===== Teaching Staff =====\\n\")\n",
    "        print(\"Teacher ID:\",self.t_id)\n",
    "        print(\"Subject:\",self.subject)\n",
    "        \n",
    "        \n",
    "class NonTeaching(Staff):\n",
    "    \n",
    "    def getNonTeachingData(self,nt_id,pli):   #pli - probation letter id\n",
    "        self.nt_id = nt_id\n",
    "        self.pli = pli\n",
    "        \n",
    "    def putNonTeachingData(self):\n",
    "        print(\"\\n===== Non Teaching Staff =====\\n\")\n",
    "        print(\"ID:\",self.nt_id)\n",
    "        print(\"Probation Letter ID:\",self.pli)"
   ]
  },
  {
   "cell_type": "code",
   "execution_count": 37,
   "id": "da00ae73",
   "metadata": {},
   "outputs": [],
   "source": [
    "t = Teaching()"
   ]
  },
  {
   "cell_type": "code",
   "execution_count": 38,
   "id": "d7c0b80d",
   "metadata": {},
   "outputs": [],
   "source": [
    "t.getStaffData(\"Sudhanshu\",\"Class Teacher\")"
   ]
  },
  {
   "cell_type": "code",
   "execution_count": 39,
   "id": "e66af7dc",
   "metadata": {},
   "outputs": [],
   "source": [
    "t.getTeachingData(101,\"Python\")"
   ]
  },
  {
   "cell_type": "code",
   "execution_count": 40,
   "id": "9acb9c2d",
   "metadata": {},
   "outputs": [
    {
     "name": "stdout",
     "output_type": "stream",
     "text": [
      "\n",
      "===== Staff Details =====\n",
      "\n",
      "Name: Sudhanshu\n",
      "Responsibility: Class Teacher\n",
      "\n",
      "===== Teaching Staff =====\n",
      "\n",
      "Teacher ID: 101\n",
      "Subject: Python\n"
     ]
    }
   ],
   "source": [
    "t.putStaffData()\n",
    "t.putTeachingData()"
   ]
  },
  {
   "cell_type": "code",
   "execution_count": 41,
   "id": "dcf95163",
   "metadata": {},
   "outputs": [],
   "source": [
    "nt = NonTeaching()"
   ]
  },
  {
   "cell_type": "code",
   "execution_count": 42,
   "id": "01a85ffd",
   "metadata": {},
   "outputs": [],
   "source": [
    "nt.getStaffData(\"John Doe\",\"Janitor\")"
   ]
  },
  {
   "cell_type": "code",
   "execution_count": 43,
   "id": "2e82e5ac",
   "metadata": {},
   "outputs": [],
   "source": [
    "nt.getNonTeachingData(919,349023)"
   ]
  },
  {
   "cell_type": "code",
   "execution_count": 44,
   "id": "0e092cac",
   "metadata": {},
   "outputs": [
    {
     "name": "stdout",
     "output_type": "stream",
     "text": [
      "\n",
      "===== Staff Details =====\n",
      "\n",
      "Name: John Doe\n",
      "Responsibility: Janitor\n",
      "\n",
      "===== Non Teaching Staff =====\n",
      "\n",
      "ID: 919\n",
      "Probation Letter ID: 349023\n"
     ]
    }
   ],
   "source": [
    "nt.putStaffData()\n",
    "nt.putNonTeachingData()"
   ]
  }
 ],
 "metadata": {
  "kernelspec": {
   "display_name": "Python 3 (ipykernel)",
   "language": "python",
   "name": "python3"
  },
  "language_info": {
   "codemirror_mode": {
    "name": "ipython",
    "version": 3
   },
   "file_extension": ".py",
   "mimetype": "text/x-python",
   "name": "python",
   "nbconvert_exporter": "python",
   "pygments_lexer": "ipython3",
   "version": "3.11.3"
  }
 },
 "nbformat": 4,
 "nbformat_minor": 5
}
