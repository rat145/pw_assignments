{
 "cells": [
  {
   "cell_type": "markdown",
   "id": "2b6b93c0",
   "metadata": {},
   "source": [
    "### Q1. What is a database? Differentiate between SQL and NoSQL databases."
   ]
  },
  {
   "cell_type": "markdown",
   "id": "82cd2e15",
   "metadata": {},
   "source": [
    "- A database is a collection of data which contains tables, views, keys, etc.\n",
    "- Databases are used everywhere to store data.\n",
    "- There are several query languages which have been developed to store, organize and analyze data.\n",
    "- The two main query languages are - SQL, MySQL\n",
    "- SQL stands for Structured Query Language while NoSQL stands for Not Only SQL.\n",
    "- SQL stores structured data while NoSQL can store unstructured data as well.\n",
    "- In SQL data are stored in tabular format while in NoSQL it is stored in json or document format.\n",
    "- For SQL there are editors are MySQL, PostgreSQL, etc. and for NoSQL there is MongoDB and more."
   ]
  },
  {
   "cell_type": "markdown",
   "id": "db7c94d4",
   "metadata": {},
   "source": [
    "### Q2. What is DDL? Explain why CREATE, DROP, ALTER, and TRUNCATE are used with an example."
   ]
  },
  {
   "cell_type": "markdown",
   "id": "2cce4fd4",
   "metadata": {},
   "source": [
    "- DDL stands for Data Definition Language.\n",
    "- It is a term in SQL.\n",
    "- It is used for defining, editing and managing the data.\n",
    "- 'CREATE' is used to create databases, tables, indexes and views.\n",
    "- 'DROP' is used to delete databases, tables, views, etc. Once something is dropped, it cannot be undone.\n",
    "- 'ALTER' is used to modify the structure of tables, etc.\n",
    "- 'TRUNCATE' is used to delete the entries made in a table. It does not delete the table structure. Only the data/rows."
   ]
  },
  {
   "cell_type": "code",
   "execution_count": null,
   "id": "d6e77e1e",
   "metadata": {},
   "outputs": [],
   "source": [
    "# CREATE\n",
    "\n",
    "CREATE TABLE employee (\n",
    "    empID INT PRIMARY KEY,\n",
    "    FirstName VARCHAR(50),\n",
    "    LastName VARCHAR(50),\n",
    "    Age INT\n",
    ");"
   ]
  },
  {
   "cell_type": "code",
   "execution_count": null,
   "id": "09cfe154",
   "metadata": {},
   "outputs": [],
   "source": [
    "# DROP\n",
    "\n",
    "DROP TABLE employee;"
   ]
  },
  {
   "cell_type": "code",
   "execution_count": null,
   "id": "f6e60988",
   "metadata": {},
   "outputs": [],
   "source": [
    "# ALTER\n",
    "\n",
    "ALTER TABLE employee ADD emailID varchar(50);"
   ]
  },
  {
   "cell_type": "code",
   "execution_count": null,
   "id": "5b6ac5af",
   "metadata": {},
   "outputs": [],
   "source": [
    "# TRUNCATE\n",
    "\n",
    "TRUNCATE TABLE employee"
   ]
  },
  {
   "cell_type": "markdown",
   "id": "9c8480f0",
   "metadata": {},
   "source": [
    "### Q3. What is DML? Explain INSERT, UPDATE, and DELETE with an example."
   ]
  },
  {
   "cell_type": "markdown",
   "id": "544f97a0",
   "metadata": {},
   "source": [
    "- DML stands for Data Manipulation Language.\n",
    "- It is also a term in SQL.\n",
    "- It is used to manipulate data in a database.\n",
    "- 'INSERT' used to enter new row of data in a database.\n",
    "- 'UPDATE' is used to update/modify specific data in the table.\n",
    "- 'DELETE' is used to delete one or more rows from the table."
   ]
  },
  {
   "cell_type": "code",
   "execution_count": null,
   "id": "ce78df67",
   "metadata": {},
   "outputs": [],
   "source": [
    "# INSERT\n",
    "\n",
    "INSERT INTO employee VALUES (1023,\"Sudh\",\"Kumar\",28);"
   ]
  },
  {
   "cell_type": "code",
   "execution_count": null,
   "id": "c7ed1e23",
   "metadata": {},
   "outputs": [],
   "source": [
    "# UPDATE\n",
    "\n",
    "UPDATE employee SET age = 25 WHERE empID = 1023;"
   ]
  },
  {
   "cell_type": "code",
   "execution_count": null,
   "id": "732df2b6",
   "metadata": {},
   "outputs": [],
   "source": [
    "# DELETE\n",
    "\n",
    "DELETE FROM employee WHERE empID = 1023"
   ]
  },
  {
   "cell_type": "markdown",
   "id": "87ac4bb5",
   "metadata": {},
   "source": [
    "### Q4. What is DQL? Explain SELECT with an example."
   ]
  },
  {
   "cell_type": "markdown",
   "id": "a141b439",
   "metadata": {},
   "source": [
    "- DQL stands for Data Query Language.\n",
    "- It is also a term in SQL.\n",
    "- It is used to retrieve data from database.\n",
    "- The primary command used in DQL is 'SELECT'"
   ]
  },
  {
   "cell_type": "code",
   "execution_count": null,
   "id": "f4a3f442",
   "metadata": {},
   "outputs": [],
   "source": [
    "SELECT * FROM employee WHERE age>20;\n",
    "\n",
    "# it will show the rows where given condition is met."
   ]
  },
  {
   "cell_type": "markdown",
   "id": "613e7a08",
   "metadata": {},
   "source": [
    "### Q5. Explain Primary Key and Foreign Key."
   ]
  },
  {
   "cell_type": "markdown",
   "id": "cf6fb602",
   "metadata": {},
   "source": [
    "- Primary Key and Foreign Key are concepts of RDBMS (Relational Database Management System).\n",
    "- They are used to establish relationships between tables in a database.\n",
    "- Primary key is a column in a database which contains:\n",
    "    - unique values\n",
    "    - non null values\n",
    "    - stable (cannot change over time)\n",
    "- Foreign key is a column in another table which refers to the primary key of another table. Some of its features are:\n",
    "    - referential integrity\n",
    "    - relationships"
   ]
  },
  {
   "cell_type": "code",
   "execution_count": null,
   "id": "170de333",
   "metadata": {},
   "outputs": [],
   "source": [
    "# Primary key example\n",
    "\n",
    "CREATE TABLE student\n",
    "(\n",
    "    s_id INT PRIMARY KEY,\n",
    "    s_name VARCHAR(30),\n",
    "    age INT\n",
    ");"
   ]
  },
  {
   "cell_type": "code",
   "execution_count": null,
   "id": "31561c0c",
   "metadata": {},
   "outputs": [],
   "source": [
    "# Foreign key example\n",
    "\n",
    "CREATE TABLE school\n",
    "(\n",
    "    roll_no INT,\n",
    "    mother_name VARCHAR(30),\n",
    "    father_name VARCHAR(30),\n",
    "    student_id INT,\n",
    "    FOREIGN KEY (student_id) REFERENCES student(s_id)\n",
    ");"
   ]
  },
  {
   "cell_type": "markdown",
   "id": "3566c1e3",
   "metadata": {},
   "source": [
    "### Q6. Write a python code to connect MySQL to python. Explain the cursor() and execute() method."
   ]
  },
  {
   "cell_type": "code",
   "execution_count": 1,
   "id": "e88ed401",
   "metadata": {},
   "outputs": [
    {
     "name": "stdout",
     "output_type": "stream",
     "text": [
      "('bsc',)\n",
      "('bscds',)\n",
      "('classicmodels',)\n",
      "('datascience',)\n",
      "('information_schema',)\n",
      "('keysdb',)\n",
      "('march6',)\n",
      "('mysql',)\n",
      "('newdb',)\n",
      "('northwind',)\n",
      "('performance_schema',)\n",
      "('question_bank',)\n",
      "('student',)\n",
      "('sys',)\n",
      "('test1',)\n",
      "('test2',)\n",
      "('theatre',)\n",
      "('wwe',)\n"
     ]
    }
   ],
   "source": [
    "import mysql.connector\n",
    "\n",
    "mydb = mysql.connector.connect(host = \"localhost\", user = \"root\", password = \"password\")\n",
    "\n",
    "mycursor = mydb.cursor()\n",
    "mycursor.execute(\"SHOW DATABASES\")\n",
    "\n",
    "for x in mycursor:\n",
    "    print(x)"
   ]
  },
  {
   "cell_type": "markdown",
   "id": "108c8c72",
   "metadata": {},
   "source": [
    "- The cursor() method is like a pointer of where we are. It helps us to use more methods like execute.\n",
    "- The execute() method allows us to pass MySQL commands through python. It is a method used with cursor."
   ]
  },
  {
   "cell_type": "markdown",
   "id": "93c45be3",
   "metadata": {},
   "source": [
    "### Q7. Give the order of execution of SQL clauses in an SQL query."
   ]
  },
  {
   "cell_type": "markdown",
   "id": "8042f1f5",
   "metadata": {},
   "source": [
    "1. FROM: It specifies from which table we want to retrieve the data from\n",
    "2. JOIN: combines tables based on conditions\n",
    "3. WHERE: used to only show the rows which meet the condition specified\n",
    "4. GROUP BY: groups the rows of a column based on same names followed by a column where an aggregate function is used\n",
    "5. HAVING: applies a filter to the grouped result set after the GROUP BY operation. Similar to the WHERE clause but used with aggregated data.\n",
    "6. SELECT: specifies which columns we want to display\n",
    "7. DISTINCT: only shows unique values\n",
    "8. ORDER BY: sorts a column in ascending or descending order."
   ]
  }
 ],
 "metadata": {
  "kernelspec": {
   "display_name": "Python 3 (ipykernel)",
   "language": "python",
   "name": "python3"
  },
  "language_info": {
   "codemirror_mode": {
    "name": "ipython",
    "version": 3
   },
   "file_extension": ".py",
   "mimetype": "text/x-python",
   "name": "python",
   "nbconvert_exporter": "python",
   "pygments_lexer": "ipython3",
   "version": "3.11.3"
  }
 },
 "nbformat": 4,
 "nbformat_minor": 5
}
